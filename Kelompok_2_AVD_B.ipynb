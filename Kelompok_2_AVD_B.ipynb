{
  "nbformat": 4,
  "nbformat_minor": 0,
  "metadata": {
    "colab": {
      "provenance": [],
      "collapsed_sections": [
        "NnQDjuCG0o9n"
      ]
    },
    "kernelspec": {
      "name": "python3",
      "display_name": "Python 3"
    },
    "language_info": {
      "name": "python"
    }
  },
  "cells": [
    {
      "cell_type": "markdown",
      "source": [
        "# Import Dataset"
      ],
      "metadata": {
        "id": "NnQDjuCG0o9n"
      }
    },
    {
      "cell_type": "code",
      "execution_count": 61,
      "metadata": {
        "colab": {
          "base_uri": "https://localhost:8080/",
          "height": 0
        },
        "id": "d3eFKDDDp45Q",
        "outputId": "9690f5bd-b8ae-45ba-e5b3-4e3a00556bac"
      },
      "outputs": [
        {
          "output_type": "execute_result",
          "data": {
            "text/plain": [
              "                         title  year      genre  users_rating votes  \\\n",
              "0          #FriendButMarried 2  2020  Biography           6.5   120   \n",
              "1                     4 Mantan  2020   Thriller           6.4     8   \n",
              "2     Aku Tahu Kapan Kamu Mati  2020     Horror           5.4    17   \n",
              "3                  Anak Garuda  2020  Adventure           9.1    27   \n",
              "4                    Dignitate  2020      Drama           7.6    33   \n",
              "...                        ...   ...        ...           ...   ...   \n",
              "1267     The Tiger from Tjampa  1953      Drama           6.4    30   \n",
              "1268       Enam Djam di Djogja  1951      Drama           6.3     9   \n",
              "1269             Darah dan Doa  1950      Drama           6.6    27   \n",
              "1270         Resia Boroboedoer  1928  Adventure           7.0     8   \n",
              "1271        Loetoeng Kasaroeng  1926    Fantasy           7.2    11   \n",
              "\n",
              "       languages          directors  runtime  \n",
              "0     Indonesian      Rako Prijanto  100 min  \n",
              "1     Indonesian      Hanny Saputra   80 min  \n",
              "2     Indonesian  Hadrah Daeng Ratu   92 min  \n",
              "3     Indonesian       Faozan Rizal  129 min  \n",
              "4     Indonesian       Fajar Nugros  109 min  \n",
              "...          ...                ...      ...  \n",
              "1267  Indonesian     D. Djajakusuma   97 min  \n",
              "1268  Indonesian       Usmar Ismail  116 min  \n",
              "1269  Indonesian       Usmar Ismail  150 min  \n",
              "1270  Indonesian                NaN      NaN  \n",
              "1271  Indonesian      L. Heuveldorp   60 min  \n",
              "\n",
              "[1272 rows x 8 columns]"
            ],
            "text/html": [
              "\n",
              "  <div id=\"df-2758ce2b-586a-4615-8ec7-00a1ba679e24\">\n",
              "    <div class=\"colab-df-container\">\n",
              "      <div>\n",
              "<style scoped>\n",
              "    .dataframe tbody tr th:only-of-type {\n",
              "        vertical-align: middle;\n",
              "    }\n",
              "\n",
              "    .dataframe tbody tr th {\n",
              "        vertical-align: top;\n",
              "    }\n",
              "\n",
              "    .dataframe thead th {\n",
              "        text-align: right;\n",
              "    }\n",
              "</style>\n",
              "<table border=\"1\" class=\"dataframe\">\n",
              "  <thead>\n",
              "    <tr style=\"text-align: right;\">\n",
              "      <th></th>\n",
              "      <th>title</th>\n",
              "      <th>year</th>\n",
              "      <th>genre</th>\n",
              "      <th>users_rating</th>\n",
              "      <th>votes</th>\n",
              "      <th>languages</th>\n",
              "      <th>directors</th>\n",
              "      <th>runtime</th>\n",
              "    </tr>\n",
              "  </thead>\n",
              "  <tbody>\n",
              "    <tr>\n",
              "      <th>0</th>\n",
              "      <td>#FriendButMarried 2</td>\n",
              "      <td>2020</td>\n",
              "      <td>Biography</td>\n",
              "      <td>6.5</td>\n",
              "      <td>120</td>\n",
              "      <td>Indonesian</td>\n",
              "      <td>Rako Prijanto</td>\n",
              "      <td>100 min</td>\n",
              "    </tr>\n",
              "    <tr>\n",
              "      <th>1</th>\n",
              "      <td>4 Mantan</td>\n",
              "      <td>2020</td>\n",
              "      <td>Thriller</td>\n",
              "      <td>6.4</td>\n",
              "      <td>8</td>\n",
              "      <td>Indonesian</td>\n",
              "      <td>Hanny Saputra</td>\n",
              "      <td>80 min</td>\n",
              "    </tr>\n",
              "    <tr>\n",
              "      <th>2</th>\n",
              "      <td>Aku Tahu Kapan Kamu Mati</td>\n",
              "      <td>2020</td>\n",
              "      <td>Horror</td>\n",
              "      <td>5.4</td>\n",
              "      <td>17</td>\n",
              "      <td>Indonesian</td>\n",
              "      <td>Hadrah Daeng Ratu</td>\n",
              "      <td>92 min</td>\n",
              "    </tr>\n",
              "    <tr>\n",
              "      <th>3</th>\n",
              "      <td>Anak Garuda</td>\n",
              "      <td>2020</td>\n",
              "      <td>Adventure</td>\n",
              "      <td>9.1</td>\n",
              "      <td>27</td>\n",
              "      <td>Indonesian</td>\n",
              "      <td>Faozan Rizal</td>\n",
              "      <td>129 min</td>\n",
              "    </tr>\n",
              "    <tr>\n",
              "      <th>4</th>\n",
              "      <td>Dignitate</td>\n",
              "      <td>2020</td>\n",
              "      <td>Drama</td>\n",
              "      <td>7.6</td>\n",
              "      <td>33</td>\n",
              "      <td>Indonesian</td>\n",
              "      <td>Fajar Nugros</td>\n",
              "      <td>109 min</td>\n",
              "    </tr>\n",
              "    <tr>\n",
              "      <th>...</th>\n",
              "      <td>...</td>\n",
              "      <td>...</td>\n",
              "      <td>...</td>\n",
              "      <td>...</td>\n",
              "      <td>...</td>\n",
              "      <td>...</td>\n",
              "      <td>...</td>\n",
              "      <td>...</td>\n",
              "    </tr>\n",
              "    <tr>\n",
              "      <th>1267</th>\n",
              "      <td>The Tiger from Tjampa</td>\n",
              "      <td>1953</td>\n",
              "      <td>Drama</td>\n",
              "      <td>6.4</td>\n",
              "      <td>30</td>\n",
              "      <td>Indonesian</td>\n",
              "      <td>D. Djajakusuma</td>\n",
              "      <td>97 min</td>\n",
              "    </tr>\n",
              "    <tr>\n",
              "      <th>1268</th>\n",
              "      <td>Enam Djam di Djogja</td>\n",
              "      <td>1951</td>\n",
              "      <td>Drama</td>\n",
              "      <td>6.3</td>\n",
              "      <td>9</td>\n",
              "      <td>Indonesian</td>\n",
              "      <td>Usmar Ismail</td>\n",
              "      <td>116 min</td>\n",
              "    </tr>\n",
              "    <tr>\n",
              "      <th>1269</th>\n",
              "      <td>Darah dan Doa</td>\n",
              "      <td>1950</td>\n",
              "      <td>Drama</td>\n",
              "      <td>6.6</td>\n",
              "      <td>27</td>\n",
              "      <td>Indonesian</td>\n",
              "      <td>Usmar Ismail</td>\n",
              "      <td>150 min</td>\n",
              "    </tr>\n",
              "    <tr>\n",
              "      <th>1270</th>\n",
              "      <td>Resia Boroboedoer</td>\n",
              "      <td>1928</td>\n",
              "      <td>Adventure</td>\n",
              "      <td>7.0</td>\n",
              "      <td>8</td>\n",
              "      <td>Indonesian</td>\n",
              "      <td>NaN</td>\n",
              "      <td>NaN</td>\n",
              "    </tr>\n",
              "    <tr>\n",
              "      <th>1271</th>\n",
              "      <td>Loetoeng Kasaroeng</td>\n",
              "      <td>1926</td>\n",
              "      <td>Fantasy</td>\n",
              "      <td>7.2</td>\n",
              "      <td>11</td>\n",
              "      <td>Indonesian</td>\n",
              "      <td>L. Heuveldorp</td>\n",
              "      <td>60 min</td>\n",
              "    </tr>\n",
              "  </tbody>\n",
              "</table>\n",
              "<p>1272 rows × 8 columns</p>\n",
              "</div>\n",
              "      <button class=\"colab-df-convert\" onclick=\"convertToInteractive('df-2758ce2b-586a-4615-8ec7-00a1ba679e24')\"\n",
              "              title=\"Convert this dataframe to an interactive table.\"\n",
              "              style=\"display:none;\">\n",
              "        \n",
              "  <svg xmlns=\"http://www.w3.org/2000/svg\" height=\"24px\"viewBox=\"0 0 24 24\"\n",
              "       width=\"24px\">\n",
              "    <path d=\"M0 0h24v24H0V0z\" fill=\"none\"/>\n",
              "    <path d=\"M18.56 5.44l.94 2.06.94-2.06 2.06-.94-2.06-.94-.94-2.06-.94 2.06-2.06.94zm-11 1L8.5 8.5l.94-2.06 2.06-.94-2.06-.94L8.5 2.5l-.94 2.06-2.06.94zm10 10l.94 2.06.94-2.06 2.06-.94-2.06-.94-.94-2.06-.94 2.06-2.06.94z\"/><path d=\"M17.41 7.96l-1.37-1.37c-.4-.4-.92-.59-1.43-.59-.52 0-1.04.2-1.43.59L10.3 9.45l-7.72 7.72c-.78.78-.78 2.05 0 2.83L4 21.41c.39.39.9.59 1.41.59.51 0 1.02-.2 1.41-.59l7.78-7.78 2.81-2.81c.8-.78.8-2.07 0-2.86zM5.41 20L4 18.59l7.72-7.72 1.47 1.35L5.41 20z\"/>\n",
              "  </svg>\n",
              "      </button>\n",
              "      \n",
              "  <style>\n",
              "    .colab-df-container {\n",
              "      display:flex;\n",
              "      flex-wrap:wrap;\n",
              "      gap: 12px;\n",
              "    }\n",
              "\n",
              "    .colab-df-convert {\n",
              "      background-color: #E8F0FE;\n",
              "      border: none;\n",
              "      border-radius: 50%;\n",
              "      cursor: pointer;\n",
              "      display: none;\n",
              "      fill: #1967D2;\n",
              "      height: 32px;\n",
              "      padding: 0 0 0 0;\n",
              "      width: 32px;\n",
              "    }\n",
              "\n",
              "    .colab-df-convert:hover {\n",
              "      background-color: #E2EBFA;\n",
              "      box-shadow: 0px 1px 2px rgba(60, 64, 67, 0.3), 0px 1px 3px 1px rgba(60, 64, 67, 0.15);\n",
              "      fill: #174EA6;\n",
              "    }\n",
              "\n",
              "    [theme=dark] .colab-df-convert {\n",
              "      background-color: #3B4455;\n",
              "      fill: #D2E3FC;\n",
              "    }\n",
              "\n",
              "    [theme=dark] .colab-df-convert:hover {\n",
              "      background-color: #434B5C;\n",
              "      box-shadow: 0px 1px 3px 1px rgba(0, 0, 0, 0.15);\n",
              "      filter: drop-shadow(0px 1px 2px rgba(0, 0, 0, 0.3));\n",
              "      fill: #FFFFFF;\n",
              "    }\n",
              "  </style>\n",
              "\n",
              "      <script>\n",
              "        const buttonEl =\n",
              "          document.querySelector('#df-2758ce2b-586a-4615-8ec7-00a1ba679e24 button.colab-df-convert');\n",
              "        buttonEl.style.display =\n",
              "          google.colab.kernel.accessAllowed ? 'block' : 'none';\n",
              "\n",
              "        async function convertToInteractive(key) {\n",
              "          const element = document.querySelector('#df-2758ce2b-586a-4615-8ec7-00a1ba679e24');\n",
              "          const dataTable =\n",
              "            await google.colab.kernel.invokeFunction('convertToInteractive',\n",
              "                                                     [key], {});\n",
              "          if (!dataTable) return;\n",
              "\n",
              "          const docLinkHtml = 'Like what you see? Visit the ' +\n",
              "            '<a target=\"_blank\" href=https://colab.research.google.com/notebooks/data_table.ipynb>data table notebook</a>'\n",
              "            + ' to learn more about interactive tables.';\n",
              "          element.innerHTML = '';\n",
              "          dataTable['output_type'] = 'display_data';\n",
              "          await google.colab.output.renderOutput(dataTable, element);\n",
              "          const docLink = document.createElement('div');\n",
              "          docLink.innerHTML = docLinkHtml;\n",
              "          element.appendChild(docLink);\n",
              "        }\n",
              "      </script>\n",
              "    </div>\n",
              "  </div>\n",
              "  "
            ]
          },
          "metadata": {},
          "execution_count": 61
        }
      ],
      "source": [
        "import pandas as pd\n",
        "import numpy as np\n",
        "import matplotlib.pyplot as plt\n",
        "import seaborn as sns\n",
        "data_path = 'film.csv'\n",
        "data_film = pd.read_csv(data_path)\n",
        "data_film"
      ]
    },
    {
      "cell_type": "markdown",
      "source": [
        "# Pembersihan data"
      ],
      "metadata": {
        "id": "Zss448I60giH"
      }
    },
    {
      "cell_type": "markdown",
      "source": [
        "Melihat Semua kolom yang ada pada dataset"
      ],
      "metadata": {
        "id": "S__G6i74vRRm"
      }
    },
    {
      "cell_type": "code",
      "source": [
        "for i in data_film.columns:\n",
        "  print(i)"
      ],
      "metadata": {
        "colab": {
          "base_uri": "https://localhost:8080/"
        },
        "id": "6VvYvbAevSSn",
        "outputId": "0c30fa42-7f46-4662-f426-a52ae6478823"
      },
      "execution_count": 62,
      "outputs": [
        {
          "output_type": "stream",
          "name": "stdout",
          "text": [
            "title\n",
            "year\n",
            "genre\n",
            "users_rating\n",
            "votes\n",
            "languages\n",
            "directors\n",
            "runtime\n"
          ]
        }
      ]
    },
    {
      "cell_type": "markdown",
      "source": [
        "Mencari kolom-kolom yang mengandung nilai NaN"
      ],
      "metadata": {
        "id": "IcVct6MSvYqn"
      }
    },
    {
      "cell_type": "code",
      "source": [
        "is_na = data_film.isna().any(axis=0)\n",
        "is_na"
      ],
      "metadata": {
        "colab": {
          "base_uri": "https://localhost:8080/"
        },
        "id": "Dy6FZXByxPTw",
        "outputId": "bbb99bdd-2564-4831-9baa-5809a6842c64"
      },
      "execution_count": 63,
      "outputs": [
        {
          "output_type": "execute_result",
          "data": {
            "text/plain": [
              "title           False\n",
              "year            False\n",
              "genre            True\n",
              "users_rating    False\n",
              "votes           False\n",
              "languages       False\n",
              "directors        True\n",
              "runtime          True\n",
              "dtype: bool"
            ]
          },
          "metadata": {},
          "execution_count": 63
        }
      ]
    },
    {
      "cell_type": "markdown",
      "source": [
        "Menghapus baris data yang tidak akan digunakan"
      ],
      "metadata": {
        "id": "ubjPQD_myWm7"
      }
    },
    {
      "cell_type": "code",
      "source": [
        "is_na = data_film.isna().any(axis=1)\n",
        "is_na\n",
        "data_film.loc[is_na]"
      ],
      "metadata": {
        "colab": {
          "base_uri": "https://localhost:8080/",
          "height": 0
        },
        "id": "xzVp6O3ryYOj",
        "outputId": "960da7be-c977-4492-878e-c75e884e9899"
      },
      "execution_count": 64,
      "outputs": [
        {
          "output_type": "execute_result",
          "data": {
            "text/plain": [
              "                     title  year      genre  users_rating votes   languages  \\\n",
              "21              #MoveOnAja  2019     Comedy           6.3     6  Indonesian   \n",
              "67                   Kutuk  2019     Horror           6.4    18  Indonesian   \n",
              "72                  Lorong  2019     Horror           5.4    14  Indonesian   \n",
              "91             Pintu Merah  2019     Horror           6.3     9  Indonesian   \n",
              "121             The Santri  2019  Adventure           3.9    10  Indonesian   \n",
              "...                    ...   ...        ...           ...   ...         ...   \n",
              "1255    Intan Perawan Kubu  1972  Adventure           7.4     7  Indonesian   \n",
              "1256   Si Doel Anak Betawi  1972      Drama           7.7    20  Indonesian   \n",
              "1258         Malin Kundang  1971        NaN           7.1     7  Indonesian   \n",
              "1261  Operation Kalimantan  1962     Action           5.8     8  Indonesian   \n",
              "1270     Resia Boroboedoer  1928  Adventure           7.0     8  Indonesian   \n",
              "\n",
              "              directors runtime  \n",
              "21        Hestu Saputra     NaN  \n",
              "67         Rudi Aryanto     NaN  \n",
              "72        Hestu Saputra     NaN  \n",
              "91    Noviandra Santosa     NaN  \n",
              "121           Ken Zheng     NaN  \n",
              "...                 ...     ...  \n",
              "1255                NaN     NaN  \n",
              "1256       Sjuman Djaya     NaN  \n",
              "1258     D. Djajakusuma     NaN  \n",
              "1261       Vladimír Sís     NaN  \n",
              "1270                NaN     NaN  \n",
              "\n",
              "[420 rows x 8 columns]"
            ],
            "text/html": [
              "\n",
              "  <div id=\"df-aae17d33-22aa-4482-9e49-5ca68dba3f4c\">\n",
              "    <div class=\"colab-df-container\">\n",
              "      <div>\n",
              "<style scoped>\n",
              "    .dataframe tbody tr th:only-of-type {\n",
              "        vertical-align: middle;\n",
              "    }\n",
              "\n",
              "    .dataframe tbody tr th {\n",
              "        vertical-align: top;\n",
              "    }\n",
              "\n",
              "    .dataframe thead th {\n",
              "        text-align: right;\n",
              "    }\n",
              "</style>\n",
              "<table border=\"1\" class=\"dataframe\">\n",
              "  <thead>\n",
              "    <tr style=\"text-align: right;\">\n",
              "      <th></th>\n",
              "      <th>title</th>\n",
              "      <th>year</th>\n",
              "      <th>genre</th>\n",
              "      <th>users_rating</th>\n",
              "      <th>votes</th>\n",
              "      <th>languages</th>\n",
              "      <th>directors</th>\n",
              "      <th>runtime</th>\n",
              "    </tr>\n",
              "  </thead>\n",
              "  <tbody>\n",
              "    <tr>\n",
              "      <th>21</th>\n",
              "      <td>#MoveOnAja</td>\n",
              "      <td>2019</td>\n",
              "      <td>Comedy</td>\n",
              "      <td>6.3</td>\n",
              "      <td>6</td>\n",
              "      <td>Indonesian</td>\n",
              "      <td>Hestu Saputra</td>\n",
              "      <td>NaN</td>\n",
              "    </tr>\n",
              "    <tr>\n",
              "      <th>67</th>\n",
              "      <td>Kutuk</td>\n",
              "      <td>2019</td>\n",
              "      <td>Horror</td>\n",
              "      <td>6.4</td>\n",
              "      <td>18</td>\n",
              "      <td>Indonesian</td>\n",
              "      <td>Rudi Aryanto</td>\n",
              "      <td>NaN</td>\n",
              "    </tr>\n",
              "    <tr>\n",
              "      <th>72</th>\n",
              "      <td>Lorong</td>\n",
              "      <td>2019</td>\n",
              "      <td>Horror</td>\n",
              "      <td>5.4</td>\n",
              "      <td>14</td>\n",
              "      <td>Indonesian</td>\n",
              "      <td>Hestu Saputra</td>\n",
              "      <td>NaN</td>\n",
              "    </tr>\n",
              "    <tr>\n",
              "      <th>91</th>\n",
              "      <td>Pintu Merah</td>\n",
              "      <td>2019</td>\n",
              "      <td>Horror</td>\n",
              "      <td>6.3</td>\n",
              "      <td>9</td>\n",
              "      <td>Indonesian</td>\n",
              "      <td>Noviandra Santosa</td>\n",
              "      <td>NaN</td>\n",
              "    </tr>\n",
              "    <tr>\n",
              "      <th>121</th>\n",
              "      <td>The Santri</td>\n",
              "      <td>2019</td>\n",
              "      <td>Adventure</td>\n",
              "      <td>3.9</td>\n",
              "      <td>10</td>\n",
              "      <td>Indonesian</td>\n",
              "      <td>Ken Zheng</td>\n",
              "      <td>NaN</td>\n",
              "    </tr>\n",
              "    <tr>\n",
              "      <th>...</th>\n",
              "      <td>...</td>\n",
              "      <td>...</td>\n",
              "      <td>...</td>\n",
              "      <td>...</td>\n",
              "      <td>...</td>\n",
              "      <td>...</td>\n",
              "      <td>...</td>\n",
              "      <td>...</td>\n",
              "    </tr>\n",
              "    <tr>\n",
              "      <th>1255</th>\n",
              "      <td>Intan Perawan Kubu</td>\n",
              "      <td>1972</td>\n",
              "      <td>Adventure</td>\n",
              "      <td>7.4</td>\n",
              "      <td>7</td>\n",
              "      <td>Indonesian</td>\n",
              "      <td>NaN</td>\n",
              "      <td>NaN</td>\n",
              "    </tr>\n",
              "    <tr>\n",
              "      <th>1256</th>\n",
              "      <td>Si Doel Anak Betawi</td>\n",
              "      <td>1972</td>\n",
              "      <td>Drama</td>\n",
              "      <td>7.7</td>\n",
              "      <td>20</td>\n",
              "      <td>Indonesian</td>\n",
              "      <td>Sjuman Djaya</td>\n",
              "      <td>NaN</td>\n",
              "    </tr>\n",
              "    <tr>\n",
              "      <th>1258</th>\n",
              "      <td>Malin Kundang</td>\n",
              "      <td>1971</td>\n",
              "      <td>NaN</td>\n",
              "      <td>7.1</td>\n",
              "      <td>7</td>\n",
              "      <td>Indonesian</td>\n",
              "      <td>D. Djajakusuma</td>\n",
              "      <td>NaN</td>\n",
              "    </tr>\n",
              "    <tr>\n",
              "      <th>1261</th>\n",
              "      <td>Operation Kalimantan</td>\n",
              "      <td>1962</td>\n",
              "      <td>Action</td>\n",
              "      <td>5.8</td>\n",
              "      <td>8</td>\n",
              "      <td>Indonesian</td>\n",
              "      <td>Vladimír Sís</td>\n",
              "      <td>NaN</td>\n",
              "    </tr>\n",
              "    <tr>\n",
              "      <th>1270</th>\n",
              "      <td>Resia Boroboedoer</td>\n",
              "      <td>1928</td>\n",
              "      <td>Adventure</td>\n",
              "      <td>7.0</td>\n",
              "      <td>8</td>\n",
              "      <td>Indonesian</td>\n",
              "      <td>NaN</td>\n",
              "      <td>NaN</td>\n",
              "    </tr>\n",
              "  </tbody>\n",
              "</table>\n",
              "<p>420 rows × 8 columns</p>\n",
              "</div>\n",
              "      <button class=\"colab-df-convert\" onclick=\"convertToInteractive('df-aae17d33-22aa-4482-9e49-5ca68dba3f4c')\"\n",
              "              title=\"Convert this dataframe to an interactive table.\"\n",
              "              style=\"display:none;\">\n",
              "        \n",
              "  <svg xmlns=\"http://www.w3.org/2000/svg\" height=\"24px\"viewBox=\"0 0 24 24\"\n",
              "       width=\"24px\">\n",
              "    <path d=\"M0 0h24v24H0V0z\" fill=\"none\"/>\n",
              "    <path d=\"M18.56 5.44l.94 2.06.94-2.06 2.06-.94-2.06-.94-.94-2.06-.94 2.06-2.06.94zm-11 1L8.5 8.5l.94-2.06 2.06-.94-2.06-.94L8.5 2.5l-.94 2.06-2.06.94zm10 10l.94 2.06.94-2.06 2.06-.94-2.06-.94-.94-2.06-.94 2.06-2.06.94z\"/><path d=\"M17.41 7.96l-1.37-1.37c-.4-.4-.92-.59-1.43-.59-.52 0-1.04.2-1.43.59L10.3 9.45l-7.72 7.72c-.78.78-.78 2.05 0 2.83L4 21.41c.39.39.9.59 1.41.59.51 0 1.02-.2 1.41-.59l7.78-7.78 2.81-2.81c.8-.78.8-2.07 0-2.86zM5.41 20L4 18.59l7.72-7.72 1.47 1.35L5.41 20z\"/>\n",
              "  </svg>\n",
              "      </button>\n",
              "      \n",
              "  <style>\n",
              "    .colab-df-container {\n",
              "      display:flex;\n",
              "      flex-wrap:wrap;\n",
              "      gap: 12px;\n",
              "    }\n",
              "\n",
              "    .colab-df-convert {\n",
              "      background-color: #E8F0FE;\n",
              "      border: none;\n",
              "      border-radius: 50%;\n",
              "      cursor: pointer;\n",
              "      display: none;\n",
              "      fill: #1967D2;\n",
              "      height: 32px;\n",
              "      padding: 0 0 0 0;\n",
              "      width: 32px;\n",
              "    }\n",
              "\n",
              "    .colab-df-convert:hover {\n",
              "      background-color: #E2EBFA;\n",
              "      box-shadow: 0px 1px 2px rgba(60, 64, 67, 0.3), 0px 1px 3px 1px rgba(60, 64, 67, 0.15);\n",
              "      fill: #174EA6;\n",
              "    }\n",
              "\n",
              "    [theme=dark] .colab-df-convert {\n",
              "      background-color: #3B4455;\n",
              "      fill: #D2E3FC;\n",
              "    }\n",
              "\n",
              "    [theme=dark] .colab-df-convert:hover {\n",
              "      background-color: #434B5C;\n",
              "      box-shadow: 0px 1px 3px 1px rgba(0, 0, 0, 0.15);\n",
              "      filter: drop-shadow(0px 1px 2px rgba(0, 0, 0, 0.3));\n",
              "      fill: #FFFFFF;\n",
              "    }\n",
              "  </style>\n",
              "\n",
              "      <script>\n",
              "        const buttonEl =\n",
              "          document.querySelector('#df-aae17d33-22aa-4482-9e49-5ca68dba3f4c button.colab-df-convert');\n",
              "        buttonEl.style.display =\n",
              "          google.colab.kernel.accessAllowed ? 'block' : 'none';\n",
              "\n",
              "        async function convertToInteractive(key) {\n",
              "          const element = document.querySelector('#df-aae17d33-22aa-4482-9e49-5ca68dba3f4c');\n",
              "          const dataTable =\n",
              "            await google.colab.kernel.invokeFunction('convertToInteractive',\n",
              "                                                     [key], {});\n",
              "          if (!dataTable) return;\n",
              "\n",
              "          const docLinkHtml = 'Like what you see? Visit the ' +\n",
              "            '<a target=\"_blank\" href=https://colab.research.google.com/notebooks/data_table.ipynb>data table notebook</a>'\n",
              "            + ' to learn more about interactive tables.';\n",
              "          element.innerHTML = '';\n",
              "          dataTable['output_type'] = 'display_data';\n",
              "          await google.colab.output.renderOutput(dataTable, element);\n",
              "          const docLink = document.createElement('div');\n",
              "          docLink.innerHTML = docLinkHtml;\n",
              "          element.appendChild(docLink);\n",
              "        }\n",
              "      </script>\n",
              "    </div>\n",
              "  </div>\n",
              "  "
            ]
          },
          "metadata": {},
          "execution_count": 64
        }
      ]
    },
    {
      "cell_type": "markdown",
      "source": [
        "Mengganti nilai NaN pada dataset menggunakan nilai setelahnya"
      ],
      "metadata": {
        "id": "YOtFV5cFyns2"
      }
    },
    {
      "cell_type": "code",
      "source": [
        "print(data_film)\n",
        "is_na = data_film[data_film.isnull().any(axis=1)].index\n",
        "replaced_data_film  = data_film.fillna(method='bfill')\n",
        "print(replaced_data_film.iloc[is_na]) "
      ],
      "metadata": {
        "colab": {
          "base_uri": "https://localhost:8080/"
        },
        "id": "KQOUPmsnypms",
        "outputId": "a9705811-6f9d-4cde-dc31-c6db259e82d8"
      },
      "execution_count": 65,
      "outputs": [
        {
          "output_type": "stream",
          "name": "stdout",
          "text": [
            "                         title  year      genre  users_rating votes  \\\n",
            "0          #FriendButMarried 2  2020  Biography           6.5   120   \n",
            "1                     4 Mantan  2020   Thriller           6.4     8   \n",
            "2     Aku Tahu Kapan Kamu Mati  2020     Horror           5.4    17   \n",
            "3                  Anak Garuda  2020  Adventure           9.1    27   \n",
            "4                    Dignitate  2020      Drama           7.6    33   \n",
            "...                        ...   ...        ...           ...   ...   \n",
            "1267     The Tiger from Tjampa  1953      Drama           6.4    30   \n",
            "1268       Enam Djam di Djogja  1951      Drama           6.3     9   \n",
            "1269             Darah dan Doa  1950      Drama           6.6    27   \n",
            "1270         Resia Boroboedoer  1928  Adventure           7.0     8   \n",
            "1271        Loetoeng Kasaroeng  1926    Fantasy           7.2    11   \n",
            "\n",
            "       languages          directors  runtime  \n",
            "0     Indonesian      Rako Prijanto  100 min  \n",
            "1     Indonesian      Hanny Saputra   80 min  \n",
            "2     Indonesian  Hadrah Daeng Ratu   92 min  \n",
            "3     Indonesian       Faozan Rizal  129 min  \n",
            "4     Indonesian       Fajar Nugros  109 min  \n",
            "...          ...                ...      ...  \n",
            "1267  Indonesian     D. Djajakusuma   97 min  \n",
            "1268  Indonesian       Usmar Ismail  116 min  \n",
            "1269  Indonesian       Usmar Ismail  150 min  \n",
            "1270  Indonesian                NaN      NaN  \n",
            "1271  Indonesian      L. Heuveldorp   60 min  \n",
            "\n",
            "[1272 rows x 8 columns]\n",
            "                     title  year      genre  users_rating votes   languages  \\\n",
            "21              #MoveOnAja  2019     Comedy           6.3     6  Indonesian   \n",
            "67                   Kutuk  2019     Horror           6.4    18  Indonesian   \n",
            "72                  Lorong  2019     Horror           5.4    14  Indonesian   \n",
            "91             Pintu Merah  2019     Horror           6.3     9  Indonesian   \n",
            "121             The Santri  2019  Adventure           3.9    10  Indonesian   \n",
            "...                    ...   ...        ...           ...   ...         ...   \n",
            "1255    Intan Perawan Kubu  1972  Adventure           7.4     7  Indonesian   \n",
            "1256   Si Doel Anak Betawi  1972      Drama           7.7    20  Indonesian   \n",
            "1258         Malin Kundang  1971      Drama           7.1     7  Indonesian   \n",
            "1261  Operation Kalimantan  1962     Action           5.8     8  Indonesian   \n",
            "1270     Resia Boroboedoer  1928  Adventure           7.0     8  Indonesian   \n",
            "\n",
            "              directors  runtime  \n",
            "21        Hestu Saputra  112 min  \n",
            "67         Rudi Aryanto  108 min  \n",
            "72        Hestu Saputra   86 min  \n",
            "91    Noviandra Santosa   90 min  \n",
            "121           Ken Zheng   94 min  \n",
            "...                 ...      ...  \n",
            "1255       Sjuman Djaya  110 min  \n",
            "1256       Sjuman Djaya  110 min  \n",
            "1258     D. Djajakusuma  117 min  \n",
            "1261       Vladimír Sís  152 min  \n",
            "1270      L. Heuveldorp   60 min  \n",
            "\n",
            "[420 rows x 8 columns]\n"
          ]
        }
      ]
    },
    {
      "cell_type": "markdown",
      "source": [
        "Sehingga, setelah di hapus menggunakan metode **bfill** maka akan di dapatkan data baru sebagai berikut."
      ],
      "metadata": {
        "id": "dNf8tj4ay609"
      }
    },
    {
      "cell_type": "code",
      "source": [
        "new_data = replaced_data_film.iloc[is_na]\n",
        "new_data"
      ],
      "metadata": {
        "colab": {
          "base_uri": "https://localhost:8080/",
          "height": 0
        },
        "id": "FMv_28S8y7aW",
        "outputId": "bbd2c65f-68c5-44f0-836c-d16b55af6ada"
      },
      "execution_count": 66,
      "outputs": [
        {
          "output_type": "execute_result",
          "data": {
            "text/plain": [
              "                     title  year      genre  users_rating votes   languages  \\\n",
              "21              #MoveOnAja  2019     Comedy           6.3     6  Indonesian   \n",
              "67                   Kutuk  2019     Horror           6.4    18  Indonesian   \n",
              "72                  Lorong  2019     Horror           5.4    14  Indonesian   \n",
              "91             Pintu Merah  2019     Horror           6.3     9  Indonesian   \n",
              "121             The Santri  2019  Adventure           3.9    10  Indonesian   \n",
              "...                    ...   ...        ...           ...   ...         ...   \n",
              "1255    Intan Perawan Kubu  1972  Adventure           7.4     7  Indonesian   \n",
              "1256   Si Doel Anak Betawi  1972      Drama           7.7    20  Indonesian   \n",
              "1258         Malin Kundang  1971      Drama           7.1     7  Indonesian   \n",
              "1261  Operation Kalimantan  1962     Action           5.8     8  Indonesian   \n",
              "1270     Resia Boroboedoer  1928  Adventure           7.0     8  Indonesian   \n",
              "\n",
              "              directors  runtime  \n",
              "21        Hestu Saputra  112 min  \n",
              "67         Rudi Aryanto  108 min  \n",
              "72        Hestu Saputra   86 min  \n",
              "91    Noviandra Santosa   90 min  \n",
              "121           Ken Zheng   94 min  \n",
              "...                 ...      ...  \n",
              "1255       Sjuman Djaya  110 min  \n",
              "1256       Sjuman Djaya  110 min  \n",
              "1258     D. Djajakusuma  117 min  \n",
              "1261       Vladimír Sís  152 min  \n",
              "1270      L. Heuveldorp   60 min  \n",
              "\n",
              "[420 rows x 8 columns]"
            ],
            "text/html": [
              "\n",
              "  <div id=\"df-26479215-cf14-4d81-bc4f-430f144ac879\">\n",
              "    <div class=\"colab-df-container\">\n",
              "      <div>\n",
              "<style scoped>\n",
              "    .dataframe tbody tr th:only-of-type {\n",
              "        vertical-align: middle;\n",
              "    }\n",
              "\n",
              "    .dataframe tbody tr th {\n",
              "        vertical-align: top;\n",
              "    }\n",
              "\n",
              "    .dataframe thead th {\n",
              "        text-align: right;\n",
              "    }\n",
              "</style>\n",
              "<table border=\"1\" class=\"dataframe\">\n",
              "  <thead>\n",
              "    <tr style=\"text-align: right;\">\n",
              "      <th></th>\n",
              "      <th>title</th>\n",
              "      <th>year</th>\n",
              "      <th>genre</th>\n",
              "      <th>users_rating</th>\n",
              "      <th>votes</th>\n",
              "      <th>languages</th>\n",
              "      <th>directors</th>\n",
              "      <th>runtime</th>\n",
              "    </tr>\n",
              "  </thead>\n",
              "  <tbody>\n",
              "    <tr>\n",
              "      <th>21</th>\n",
              "      <td>#MoveOnAja</td>\n",
              "      <td>2019</td>\n",
              "      <td>Comedy</td>\n",
              "      <td>6.3</td>\n",
              "      <td>6</td>\n",
              "      <td>Indonesian</td>\n",
              "      <td>Hestu Saputra</td>\n",
              "      <td>112 min</td>\n",
              "    </tr>\n",
              "    <tr>\n",
              "      <th>67</th>\n",
              "      <td>Kutuk</td>\n",
              "      <td>2019</td>\n",
              "      <td>Horror</td>\n",
              "      <td>6.4</td>\n",
              "      <td>18</td>\n",
              "      <td>Indonesian</td>\n",
              "      <td>Rudi Aryanto</td>\n",
              "      <td>108 min</td>\n",
              "    </tr>\n",
              "    <tr>\n",
              "      <th>72</th>\n",
              "      <td>Lorong</td>\n",
              "      <td>2019</td>\n",
              "      <td>Horror</td>\n",
              "      <td>5.4</td>\n",
              "      <td>14</td>\n",
              "      <td>Indonesian</td>\n",
              "      <td>Hestu Saputra</td>\n",
              "      <td>86 min</td>\n",
              "    </tr>\n",
              "    <tr>\n",
              "      <th>91</th>\n",
              "      <td>Pintu Merah</td>\n",
              "      <td>2019</td>\n",
              "      <td>Horror</td>\n",
              "      <td>6.3</td>\n",
              "      <td>9</td>\n",
              "      <td>Indonesian</td>\n",
              "      <td>Noviandra Santosa</td>\n",
              "      <td>90 min</td>\n",
              "    </tr>\n",
              "    <tr>\n",
              "      <th>121</th>\n",
              "      <td>The Santri</td>\n",
              "      <td>2019</td>\n",
              "      <td>Adventure</td>\n",
              "      <td>3.9</td>\n",
              "      <td>10</td>\n",
              "      <td>Indonesian</td>\n",
              "      <td>Ken Zheng</td>\n",
              "      <td>94 min</td>\n",
              "    </tr>\n",
              "    <tr>\n",
              "      <th>...</th>\n",
              "      <td>...</td>\n",
              "      <td>...</td>\n",
              "      <td>...</td>\n",
              "      <td>...</td>\n",
              "      <td>...</td>\n",
              "      <td>...</td>\n",
              "      <td>...</td>\n",
              "      <td>...</td>\n",
              "    </tr>\n",
              "    <tr>\n",
              "      <th>1255</th>\n",
              "      <td>Intan Perawan Kubu</td>\n",
              "      <td>1972</td>\n",
              "      <td>Adventure</td>\n",
              "      <td>7.4</td>\n",
              "      <td>7</td>\n",
              "      <td>Indonesian</td>\n",
              "      <td>Sjuman Djaya</td>\n",
              "      <td>110 min</td>\n",
              "    </tr>\n",
              "    <tr>\n",
              "      <th>1256</th>\n",
              "      <td>Si Doel Anak Betawi</td>\n",
              "      <td>1972</td>\n",
              "      <td>Drama</td>\n",
              "      <td>7.7</td>\n",
              "      <td>20</td>\n",
              "      <td>Indonesian</td>\n",
              "      <td>Sjuman Djaya</td>\n",
              "      <td>110 min</td>\n",
              "    </tr>\n",
              "    <tr>\n",
              "      <th>1258</th>\n",
              "      <td>Malin Kundang</td>\n",
              "      <td>1971</td>\n",
              "      <td>Drama</td>\n",
              "      <td>7.1</td>\n",
              "      <td>7</td>\n",
              "      <td>Indonesian</td>\n",
              "      <td>D. Djajakusuma</td>\n",
              "      <td>117 min</td>\n",
              "    </tr>\n",
              "    <tr>\n",
              "      <th>1261</th>\n",
              "      <td>Operation Kalimantan</td>\n",
              "      <td>1962</td>\n",
              "      <td>Action</td>\n",
              "      <td>5.8</td>\n",
              "      <td>8</td>\n",
              "      <td>Indonesian</td>\n",
              "      <td>Vladimír Sís</td>\n",
              "      <td>152 min</td>\n",
              "    </tr>\n",
              "    <tr>\n",
              "      <th>1270</th>\n",
              "      <td>Resia Boroboedoer</td>\n",
              "      <td>1928</td>\n",
              "      <td>Adventure</td>\n",
              "      <td>7.0</td>\n",
              "      <td>8</td>\n",
              "      <td>Indonesian</td>\n",
              "      <td>L. Heuveldorp</td>\n",
              "      <td>60 min</td>\n",
              "    </tr>\n",
              "  </tbody>\n",
              "</table>\n",
              "<p>420 rows × 8 columns</p>\n",
              "</div>\n",
              "      <button class=\"colab-df-convert\" onclick=\"convertToInteractive('df-26479215-cf14-4d81-bc4f-430f144ac879')\"\n",
              "              title=\"Convert this dataframe to an interactive table.\"\n",
              "              style=\"display:none;\">\n",
              "        \n",
              "  <svg xmlns=\"http://www.w3.org/2000/svg\" height=\"24px\"viewBox=\"0 0 24 24\"\n",
              "       width=\"24px\">\n",
              "    <path d=\"M0 0h24v24H0V0z\" fill=\"none\"/>\n",
              "    <path d=\"M18.56 5.44l.94 2.06.94-2.06 2.06-.94-2.06-.94-.94-2.06-.94 2.06-2.06.94zm-11 1L8.5 8.5l.94-2.06 2.06-.94-2.06-.94L8.5 2.5l-.94 2.06-2.06.94zm10 10l.94 2.06.94-2.06 2.06-.94-2.06-.94-.94-2.06-.94 2.06-2.06.94z\"/><path d=\"M17.41 7.96l-1.37-1.37c-.4-.4-.92-.59-1.43-.59-.52 0-1.04.2-1.43.59L10.3 9.45l-7.72 7.72c-.78.78-.78 2.05 0 2.83L4 21.41c.39.39.9.59 1.41.59.51 0 1.02-.2 1.41-.59l7.78-7.78 2.81-2.81c.8-.78.8-2.07 0-2.86zM5.41 20L4 18.59l7.72-7.72 1.47 1.35L5.41 20z\"/>\n",
              "  </svg>\n",
              "      </button>\n",
              "      \n",
              "  <style>\n",
              "    .colab-df-container {\n",
              "      display:flex;\n",
              "      flex-wrap:wrap;\n",
              "      gap: 12px;\n",
              "    }\n",
              "\n",
              "    .colab-df-convert {\n",
              "      background-color: #E8F0FE;\n",
              "      border: none;\n",
              "      border-radius: 50%;\n",
              "      cursor: pointer;\n",
              "      display: none;\n",
              "      fill: #1967D2;\n",
              "      height: 32px;\n",
              "      padding: 0 0 0 0;\n",
              "      width: 32px;\n",
              "    }\n",
              "\n",
              "    .colab-df-convert:hover {\n",
              "      background-color: #E2EBFA;\n",
              "      box-shadow: 0px 1px 2px rgba(60, 64, 67, 0.3), 0px 1px 3px 1px rgba(60, 64, 67, 0.15);\n",
              "      fill: #174EA6;\n",
              "    }\n",
              "\n",
              "    [theme=dark] .colab-df-convert {\n",
              "      background-color: #3B4455;\n",
              "      fill: #D2E3FC;\n",
              "    }\n",
              "\n",
              "    [theme=dark] .colab-df-convert:hover {\n",
              "      background-color: #434B5C;\n",
              "      box-shadow: 0px 1px 3px 1px rgba(0, 0, 0, 0.15);\n",
              "      filter: drop-shadow(0px 1px 2px rgba(0, 0, 0, 0.3));\n",
              "      fill: #FFFFFF;\n",
              "    }\n",
              "  </style>\n",
              "\n",
              "      <script>\n",
              "        const buttonEl =\n",
              "          document.querySelector('#df-26479215-cf14-4d81-bc4f-430f144ac879 button.colab-df-convert');\n",
              "        buttonEl.style.display =\n",
              "          google.colab.kernel.accessAllowed ? 'block' : 'none';\n",
              "\n",
              "        async function convertToInteractive(key) {\n",
              "          const element = document.querySelector('#df-26479215-cf14-4d81-bc4f-430f144ac879');\n",
              "          const dataTable =\n",
              "            await google.colab.kernel.invokeFunction('convertToInteractive',\n",
              "                                                     [key], {});\n",
              "          if (!dataTable) return;\n",
              "\n",
              "          const docLinkHtml = 'Like what you see? Visit the ' +\n",
              "            '<a target=\"_blank\" href=https://colab.research.google.com/notebooks/data_table.ipynb>data table notebook</a>'\n",
              "            + ' to learn more about interactive tables.';\n",
              "          element.innerHTML = '';\n",
              "          dataTable['output_type'] = 'display_data';\n",
              "          await google.colab.output.renderOutput(dataTable, element);\n",
              "          const docLink = document.createElement('div');\n",
              "          docLink.innerHTML = docLinkHtml;\n",
              "          element.appendChild(docLink);\n",
              "        }\n",
              "      </script>\n",
              "    </div>\n",
              "  </div>\n",
              "  "
            ]
          },
          "metadata": {},
          "execution_count": 66
        }
      ]
    },
    {
      "cell_type": "markdown",
      "source": [
        "Langkah terakhir, adalah **Menghapus Data Duplicate.** Menggunakan method bawaan dari pandas .drop_duplicates"
      ],
      "metadata": {
        "id": "aanq9AVuzXNB"
      }
    },
    {
      "cell_type": "code",
      "source": [
        "data_film_duplicated_free = new_data.drop_duplicates()"
      ],
      "metadata": {
        "id": "5IpxXGUNzXvH"
      },
      "execution_count": 67,
      "outputs": []
    },
    {
      "cell_type": "code",
      "source": [
        "data_film_duplicated_free"
      ],
      "metadata": {
        "colab": {
          "base_uri": "https://localhost:8080/",
          "height": 0
        },
        "id": "29vn7-vhzaqg",
        "outputId": "7ac683d2-d591-4e78-d37d-f182ea46d1cd"
      },
      "execution_count": 68,
      "outputs": [
        {
          "output_type": "execute_result",
          "data": {
            "text/plain": [
              "                     title  year      genre  users_rating votes   languages  \\\n",
              "21              #MoveOnAja  2019     Comedy           6.3     6  Indonesian   \n",
              "67                   Kutuk  2019     Horror           6.4    18  Indonesian   \n",
              "72                  Lorong  2019     Horror           5.4    14  Indonesian   \n",
              "91             Pintu Merah  2019     Horror           6.3     9  Indonesian   \n",
              "121             The Santri  2019  Adventure           3.9    10  Indonesian   \n",
              "...                    ...   ...        ...           ...   ...         ...   \n",
              "1255    Intan Perawan Kubu  1972  Adventure           7.4     7  Indonesian   \n",
              "1256   Si Doel Anak Betawi  1972      Drama           7.7    20  Indonesian   \n",
              "1258         Malin Kundang  1971      Drama           7.1     7  Indonesian   \n",
              "1261  Operation Kalimantan  1962     Action           5.8     8  Indonesian   \n",
              "1270     Resia Boroboedoer  1928  Adventure           7.0     8  Indonesian   \n",
              "\n",
              "              directors  runtime  \n",
              "21        Hestu Saputra  112 min  \n",
              "67         Rudi Aryanto  108 min  \n",
              "72        Hestu Saputra   86 min  \n",
              "91    Noviandra Santosa   90 min  \n",
              "121           Ken Zheng   94 min  \n",
              "...                 ...      ...  \n",
              "1255       Sjuman Djaya  110 min  \n",
              "1256       Sjuman Djaya  110 min  \n",
              "1258     D. Djajakusuma  117 min  \n",
              "1261       Vladimír Sís  152 min  \n",
              "1270      L. Heuveldorp   60 min  \n",
              "\n",
              "[420 rows x 8 columns]"
            ],
            "text/html": [
              "\n",
              "  <div id=\"df-f1b76159-74e1-4087-8101-71f1be65e3f2\">\n",
              "    <div class=\"colab-df-container\">\n",
              "      <div>\n",
              "<style scoped>\n",
              "    .dataframe tbody tr th:only-of-type {\n",
              "        vertical-align: middle;\n",
              "    }\n",
              "\n",
              "    .dataframe tbody tr th {\n",
              "        vertical-align: top;\n",
              "    }\n",
              "\n",
              "    .dataframe thead th {\n",
              "        text-align: right;\n",
              "    }\n",
              "</style>\n",
              "<table border=\"1\" class=\"dataframe\">\n",
              "  <thead>\n",
              "    <tr style=\"text-align: right;\">\n",
              "      <th></th>\n",
              "      <th>title</th>\n",
              "      <th>year</th>\n",
              "      <th>genre</th>\n",
              "      <th>users_rating</th>\n",
              "      <th>votes</th>\n",
              "      <th>languages</th>\n",
              "      <th>directors</th>\n",
              "      <th>runtime</th>\n",
              "    </tr>\n",
              "  </thead>\n",
              "  <tbody>\n",
              "    <tr>\n",
              "      <th>21</th>\n",
              "      <td>#MoveOnAja</td>\n",
              "      <td>2019</td>\n",
              "      <td>Comedy</td>\n",
              "      <td>6.3</td>\n",
              "      <td>6</td>\n",
              "      <td>Indonesian</td>\n",
              "      <td>Hestu Saputra</td>\n",
              "      <td>112 min</td>\n",
              "    </tr>\n",
              "    <tr>\n",
              "      <th>67</th>\n",
              "      <td>Kutuk</td>\n",
              "      <td>2019</td>\n",
              "      <td>Horror</td>\n",
              "      <td>6.4</td>\n",
              "      <td>18</td>\n",
              "      <td>Indonesian</td>\n",
              "      <td>Rudi Aryanto</td>\n",
              "      <td>108 min</td>\n",
              "    </tr>\n",
              "    <tr>\n",
              "      <th>72</th>\n",
              "      <td>Lorong</td>\n",
              "      <td>2019</td>\n",
              "      <td>Horror</td>\n",
              "      <td>5.4</td>\n",
              "      <td>14</td>\n",
              "      <td>Indonesian</td>\n",
              "      <td>Hestu Saputra</td>\n",
              "      <td>86 min</td>\n",
              "    </tr>\n",
              "    <tr>\n",
              "      <th>91</th>\n",
              "      <td>Pintu Merah</td>\n",
              "      <td>2019</td>\n",
              "      <td>Horror</td>\n",
              "      <td>6.3</td>\n",
              "      <td>9</td>\n",
              "      <td>Indonesian</td>\n",
              "      <td>Noviandra Santosa</td>\n",
              "      <td>90 min</td>\n",
              "    </tr>\n",
              "    <tr>\n",
              "      <th>121</th>\n",
              "      <td>The Santri</td>\n",
              "      <td>2019</td>\n",
              "      <td>Adventure</td>\n",
              "      <td>3.9</td>\n",
              "      <td>10</td>\n",
              "      <td>Indonesian</td>\n",
              "      <td>Ken Zheng</td>\n",
              "      <td>94 min</td>\n",
              "    </tr>\n",
              "    <tr>\n",
              "      <th>...</th>\n",
              "      <td>...</td>\n",
              "      <td>...</td>\n",
              "      <td>...</td>\n",
              "      <td>...</td>\n",
              "      <td>...</td>\n",
              "      <td>...</td>\n",
              "      <td>...</td>\n",
              "      <td>...</td>\n",
              "    </tr>\n",
              "    <tr>\n",
              "      <th>1255</th>\n",
              "      <td>Intan Perawan Kubu</td>\n",
              "      <td>1972</td>\n",
              "      <td>Adventure</td>\n",
              "      <td>7.4</td>\n",
              "      <td>7</td>\n",
              "      <td>Indonesian</td>\n",
              "      <td>Sjuman Djaya</td>\n",
              "      <td>110 min</td>\n",
              "    </tr>\n",
              "    <tr>\n",
              "      <th>1256</th>\n",
              "      <td>Si Doel Anak Betawi</td>\n",
              "      <td>1972</td>\n",
              "      <td>Drama</td>\n",
              "      <td>7.7</td>\n",
              "      <td>20</td>\n",
              "      <td>Indonesian</td>\n",
              "      <td>Sjuman Djaya</td>\n",
              "      <td>110 min</td>\n",
              "    </tr>\n",
              "    <tr>\n",
              "      <th>1258</th>\n",
              "      <td>Malin Kundang</td>\n",
              "      <td>1971</td>\n",
              "      <td>Drama</td>\n",
              "      <td>7.1</td>\n",
              "      <td>7</td>\n",
              "      <td>Indonesian</td>\n",
              "      <td>D. Djajakusuma</td>\n",
              "      <td>117 min</td>\n",
              "    </tr>\n",
              "    <tr>\n",
              "      <th>1261</th>\n",
              "      <td>Operation Kalimantan</td>\n",
              "      <td>1962</td>\n",
              "      <td>Action</td>\n",
              "      <td>5.8</td>\n",
              "      <td>8</td>\n",
              "      <td>Indonesian</td>\n",
              "      <td>Vladimír Sís</td>\n",
              "      <td>152 min</td>\n",
              "    </tr>\n",
              "    <tr>\n",
              "      <th>1270</th>\n",
              "      <td>Resia Boroboedoer</td>\n",
              "      <td>1928</td>\n",
              "      <td>Adventure</td>\n",
              "      <td>7.0</td>\n",
              "      <td>8</td>\n",
              "      <td>Indonesian</td>\n",
              "      <td>L. Heuveldorp</td>\n",
              "      <td>60 min</td>\n",
              "    </tr>\n",
              "  </tbody>\n",
              "</table>\n",
              "<p>420 rows × 8 columns</p>\n",
              "</div>\n",
              "      <button class=\"colab-df-convert\" onclick=\"convertToInteractive('df-f1b76159-74e1-4087-8101-71f1be65e3f2')\"\n",
              "              title=\"Convert this dataframe to an interactive table.\"\n",
              "              style=\"display:none;\">\n",
              "        \n",
              "  <svg xmlns=\"http://www.w3.org/2000/svg\" height=\"24px\"viewBox=\"0 0 24 24\"\n",
              "       width=\"24px\">\n",
              "    <path d=\"M0 0h24v24H0V0z\" fill=\"none\"/>\n",
              "    <path d=\"M18.56 5.44l.94 2.06.94-2.06 2.06-.94-2.06-.94-.94-2.06-.94 2.06-2.06.94zm-11 1L8.5 8.5l.94-2.06 2.06-.94-2.06-.94L8.5 2.5l-.94 2.06-2.06.94zm10 10l.94 2.06.94-2.06 2.06-.94-2.06-.94-.94-2.06-.94 2.06-2.06.94z\"/><path d=\"M17.41 7.96l-1.37-1.37c-.4-.4-.92-.59-1.43-.59-.52 0-1.04.2-1.43.59L10.3 9.45l-7.72 7.72c-.78.78-.78 2.05 0 2.83L4 21.41c.39.39.9.59 1.41.59.51 0 1.02-.2 1.41-.59l7.78-7.78 2.81-2.81c.8-.78.8-2.07 0-2.86zM5.41 20L4 18.59l7.72-7.72 1.47 1.35L5.41 20z\"/>\n",
              "  </svg>\n",
              "      </button>\n",
              "      \n",
              "  <style>\n",
              "    .colab-df-container {\n",
              "      display:flex;\n",
              "      flex-wrap:wrap;\n",
              "      gap: 12px;\n",
              "    }\n",
              "\n",
              "    .colab-df-convert {\n",
              "      background-color: #E8F0FE;\n",
              "      border: none;\n",
              "      border-radius: 50%;\n",
              "      cursor: pointer;\n",
              "      display: none;\n",
              "      fill: #1967D2;\n",
              "      height: 32px;\n",
              "      padding: 0 0 0 0;\n",
              "      width: 32px;\n",
              "    }\n",
              "\n",
              "    .colab-df-convert:hover {\n",
              "      background-color: #E2EBFA;\n",
              "      box-shadow: 0px 1px 2px rgba(60, 64, 67, 0.3), 0px 1px 3px 1px rgba(60, 64, 67, 0.15);\n",
              "      fill: #174EA6;\n",
              "    }\n",
              "\n",
              "    [theme=dark] .colab-df-convert {\n",
              "      background-color: #3B4455;\n",
              "      fill: #D2E3FC;\n",
              "    }\n",
              "\n",
              "    [theme=dark] .colab-df-convert:hover {\n",
              "      background-color: #434B5C;\n",
              "      box-shadow: 0px 1px 3px 1px rgba(0, 0, 0, 0.15);\n",
              "      filter: drop-shadow(0px 1px 2px rgba(0, 0, 0, 0.3));\n",
              "      fill: #FFFFFF;\n",
              "    }\n",
              "  </style>\n",
              "\n",
              "      <script>\n",
              "        const buttonEl =\n",
              "          document.querySelector('#df-f1b76159-74e1-4087-8101-71f1be65e3f2 button.colab-df-convert');\n",
              "        buttonEl.style.display =\n",
              "          google.colab.kernel.accessAllowed ? 'block' : 'none';\n",
              "\n",
              "        async function convertToInteractive(key) {\n",
              "          const element = document.querySelector('#df-f1b76159-74e1-4087-8101-71f1be65e3f2');\n",
              "          const dataTable =\n",
              "            await google.colab.kernel.invokeFunction('convertToInteractive',\n",
              "                                                     [key], {});\n",
              "          if (!dataTable) return;\n",
              "\n",
              "          const docLinkHtml = 'Like what you see? Visit the ' +\n",
              "            '<a target=\"_blank\" href=https://colab.research.google.com/notebooks/data_table.ipynb>data table notebook</a>'\n",
              "            + ' to learn more about interactive tables.';\n",
              "          element.innerHTML = '';\n",
              "          dataTable['output_type'] = 'display_data';\n",
              "          await google.colab.output.renderOutput(dataTable, element);\n",
              "          const docLink = document.createElement('div');\n",
              "          docLink.innerHTML = docLinkHtml;\n",
              "          element.appendChild(docLink);\n",
              "        }\n",
              "      </script>\n",
              "    </div>\n",
              "  </div>\n",
              "  "
            ]
          },
          "metadata": {},
          "execution_count": 68
        }
      ]
    },
    {
      "cell_type": "markdown",
      "source": [
        "Mengganti data yang mentah menjadi data yang sudah di proses"
      ],
      "metadata": {
        "id": "PWXVlRQMcHtH"
      }
    },
    {
      "cell_type": "code",
      "source": [
        "data_film.loc[is_na] = data_film_duplicated_free.loc[is_na]"
      ],
      "metadata": {
        "id": "z74DZT5ga0YQ"
      },
      "execution_count": 69,
      "outputs": []
    },
    {
      "cell_type": "markdown",
      "source": [
        "Pengecekan data null apakah sudah terhapus semua"
      ],
      "metadata": {
        "id": "EBu4Mr1R0Zmk"
      }
    },
    {
      "cell_type": "code",
      "source": [
        "is_na = data_film.isna().any(axis=0)\n",
        "is_na"
      ],
      "metadata": {
        "id": "UP4dOsN_zv59",
        "colab": {
          "base_uri": "https://localhost:8080/"
        },
        "outputId": "d584b178-6fbd-426d-df8c-840792b10d7a"
      },
      "execution_count": 70,
      "outputs": [
        {
          "output_type": "execute_result",
          "data": {
            "text/plain": [
              "title           False\n",
              "year            False\n",
              "genre           False\n",
              "users_rating    False\n",
              "votes           False\n",
              "languages       False\n",
              "directors       False\n",
              "runtime         False\n",
              "dtype: bool"
            ]
          },
          "metadata": {},
          "execution_count": 70
        }
      ]
    },
    {
      "cell_type": "markdown",
      "source": [
        "# Analisis Statistik"
      ],
      "metadata": {
        "id": "MHNcBZSr2HbY"
      }
    },
    {
      "cell_type": "markdown",
      "source": [
        "Mencari mean dari dataset"
      ],
      "metadata": {
        "id": "UjcwP0475aBf"
      }
    },
    {
      "cell_type": "code",
      "source": [
        "data_film.mean()"
      ],
      "metadata": {
        "id": "c3fyJNiT2Otg",
        "colab": {
          "base_uri": "https://localhost:8080/"
        },
        "outputId": "ef2ef9c0-6268-468a-c841-5ab852d9c23a"
      },
      "execution_count": 71,
      "outputs": [
        {
          "output_type": "stream",
          "name": "stderr",
          "text": [
            "<ipython-input-71-791a452ba77c>:1: FutureWarning: Dropping of nuisance columns in DataFrame reductions (with 'numeric_only=None') is deprecated; in a future version this will raise TypeError.  Select only valid columns before calling the reduction.\n",
            "  data_film.mean()\n"
          ]
        },
        {
          "output_type": "execute_result",
          "data": {
            "text/plain": [
              "year            2007.023585\n",
              "users_rating       6.144418\n",
              "dtype: float64"
            ]
          },
          "metadata": {},
          "execution_count": 71
        }
      ]
    },
    {
      "cell_type": "markdown",
      "source": [
        "Mencari median atau nilai tengah dari data set"
      ],
      "metadata": {
        "id": "aaPbW3tt55Wx"
      }
    },
    {
      "cell_type": "code",
      "source": [
        "data_film.median()"
      ],
      "metadata": {
        "id": "rysi8C_I59KR",
        "colab": {
          "base_uri": "https://localhost:8080/"
        },
        "outputId": "20134b97-5004-4560-f568-1d699a9ccb61"
      },
      "execution_count": 72,
      "outputs": [
        {
          "output_type": "stream",
          "name": "stderr",
          "text": [
            "<ipython-input-72-d6b68fa2e8fb>:1: FutureWarning: Dropping of nuisance columns in DataFrame reductions (with 'numeric_only=None') is deprecated; in a future version this will raise TypeError.  Select only valid columns before calling the reduction.\n",
            "  data_film.median()\n"
          ]
        },
        {
          "output_type": "execute_result",
          "data": {
            "text/plain": [
              "year            2011.0\n",
              "users_rating       6.4\n",
              "dtype: float64"
            ]
          },
          "metadata": {},
          "execution_count": 72
        }
      ]
    },
    {
      "cell_type": "markdown",
      "source": [
        "Mencari modus"
      ],
      "metadata": {
        "id": "l8ZHW0W76rBL"
      }
    },
    {
      "cell_type": "code",
      "source": [
        "data_film.mode()"
      ],
      "metadata": {
        "id": "-pjwszqD6pCw",
        "outputId": "0bb93c65-5574-4570-d477-d41b01d8c4e9",
        "colab": {
          "base_uri": "https://localhost:8080/",
          "height": 143
        }
      },
      "execution_count": 90,
      "outputs": [
        {
          "output_type": "execute_result",
          "data": {
            "text/plain": [
              "                     title    year  genre  users_rating votes   languages  \\\n",
              "0                   Jomblo  2019.0    5.0           7.2    11  Indonesian   \n",
              "1             Kuntilanak 2     NaN    NaN           NaN     7         NaN   \n",
              "2  Surat Kecil Untuk Tuhan     NaN    NaN           NaN   NaN         NaN   \n",
              "\n",
              "          directors runtime  \n",
              "0  Nayato Fio Nuala  90 min  \n",
              "1               NaN     NaN  \n",
              "2               NaN     NaN  "
            ],
            "text/html": [
              "\n",
              "  <div id=\"df-1dcbbd49-b684-4f49-bf75-65b5e01f81e9\">\n",
              "    <div class=\"colab-df-container\">\n",
              "      <div>\n",
              "<style scoped>\n",
              "    .dataframe tbody tr th:only-of-type {\n",
              "        vertical-align: middle;\n",
              "    }\n",
              "\n",
              "    .dataframe tbody tr th {\n",
              "        vertical-align: top;\n",
              "    }\n",
              "\n",
              "    .dataframe thead th {\n",
              "        text-align: right;\n",
              "    }\n",
              "</style>\n",
              "<table border=\"1\" class=\"dataframe\">\n",
              "  <thead>\n",
              "    <tr style=\"text-align: right;\">\n",
              "      <th></th>\n",
              "      <th>title</th>\n",
              "      <th>year</th>\n",
              "      <th>genre</th>\n",
              "      <th>users_rating</th>\n",
              "      <th>votes</th>\n",
              "      <th>languages</th>\n",
              "      <th>directors</th>\n",
              "      <th>runtime</th>\n",
              "    </tr>\n",
              "  </thead>\n",
              "  <tbody>\n",
              "    <tr>\n",
              "      <th>0</th>\n",
              "      <td>Jomblo</td>\n",
              "      <td>2019.0</td>\n",
              "      <td>5.0</td>\n",
              "      <td>7.2</td>\n",
              "      <td>11</td>\n",
              "      <td>Indonesian</td>\n",
              "      <td>Nayato Fio Nuala</td>\n",
              "      <td>90 min</td>\n",
              "    </tr>\n",
              "    <tr>\n",
              "      <th>1</th>\n",
              "      <td>Kuntilanak 2</td>\n",
              "      <td>NaN</td>\n",
              "      <td>NaN</td>\n",
              "      <td>NaN</td>\n",
              "      <td>7</td>\n",
              "      <td>NaN</td>\n",
              "      <td>NaN</td>\n",
              "      <td>NaN</td>\n",
              "    </tr>\n",
              "    <tr>\n",
              "      <th>2</th>\n",
              "      <td>Surat Kecil Untuk Tuhan</td>\n",
              "      <td>NaN</td>\n",
              "      <td>NaN</td>\n",
              "      <td>NaN</td>\n",
              "      <td>NaN</td>\n",
              "      <td>NaN</td>\n",
              "      <td>NaN</td>\n",
              "      <td>NaN</td>\n",
              "    </tr>\n",
              "  </tbody>\n",
              "</table>\n",
              "</div>\n",
              "      <button class=\"colab-df-convert\" onclick=\"convertToInteractive('df-1dcbbd49-b684-4f49-bf75-65b5e01f81e9')\"\n",
              "              title=\"Convert this dataframe to an interactive table.\"\n",
              "              style=\"display:none;\">\n",
              "        \n",
              "  <svg xmlns=\"http://www.w3.org/2000/svg\" height=\"24px\"viewBox=\"0 0 24 24\"\n",
              "       width=\"24px\">\n",
              "    <path d=\"M0 0h24v24H0V0z\" fill=\"none\"/>\n",
              "    <path d=\"M18.56 5.44l.94 2.06.94-2.06 2.06-.94-2.06-.94-.94-2.06-.94 2.06-2.06.94zm-11 1L8.5 8.5l.94-2.06 2.06-.94-2.06-.94L8.5 2.5l-.94 2.06-2.06.94zm10 10l.94 2.06.94-2.06 2.06-.94-2.06-.94-.94-2.06-.94 2.06-2.06.94z\"/><path d=\"M17.41 7.96l-1.37-1.37c-.4-.4-.92-.59-1.43-.59-.52 0-1.04.2-1.43.59L10.3 9.45l-7.72 7.72c-.78.78-.78 2.05 0 2.83L4 21.41c.39.39.9.59 1.41.59.51 0 1.02-.2 1.41-.59l7.78-7.78 2.81-2.81c.8-.78.8-2.07 0-2.86zM5.41 20L4 18.59l7.72-7.72 1.47 1.35L5.41 20z\"/>\n",
              "  </svg>\n",
              "      </button>\n",
              "      \n",
              "  <style>\n",
              "    .colab-df-container {\n",
              "      display:flex;\n",
              "      flex-wrap:wrap;\n",
              "      gap: 12px;\n",
              "    }\n",
              "\n",
              "    .colab-df-convert {\n",
              "      background-color: #E8F0FE;\n",
              "      border: none;\n",
              "      border-radius: 50%;\n",
              "      cursor: pointer;\n",
              "      display: none;\n",
              "      fill: #1967D2;\n",
              "      height: 32px;\n",
              "      padding: 0 0 0 0;\n",
              "      width: 32px;\n",
              "    }\n",
              "\n",
              "    .colab-df-convert:hover {\n",
              "      background-color: #E2EBFA;\n",
              "      box-shadow: 0px 1px 2px rgba(60, 64, 67, 0.3), 0px 1px 3px 1px rgba(60, 64, 67, 0.15);\n",
              "      fill: #174EA6;\n",
              "    }\n",
              "\n",
              "    [theme=dark] .colab-df-convert {\n",
              "      background-color: #3B4455;\n",
              "      fill: #D2E3FC;\n",
              "    }\n",
              "\n",
              "    [theme=dark] .colab-df-convert:hover {\n",
              "      background-color: #434B5C;\n",
              "      box-shadow: 0px 1px 3px 1px rgba(0, 0, 0, 0.15);\n",
              "      filter: drop-shadow(0px 1px 2px rgba(0, 0, 0, 0.3));\n",
              "      fill: #FFFFFF;\n",
              "    }\n",
              "  </style>\n",
              "\n",
              "      <script>\n",
              "        const buttonEl =\n",
              "          document.querySelector('#df-1dcbbd49-b684-4f49-bf75-65b5e01f81e9 button.colab-df-convert');\n",
              "        buttonEl.style.display =\n",
              "          google.colab.kernel.accessAllowed ? 'block' : 'none';\n",
              "\n",
              "        async function convertToInteractive(key) {\n",
              "          const element = document.querySelector('#df-1dcbbd49-b684-4f49-bf75-65b5e01f81e9');\n",
              "          const dataTable =\n",
              "            await google.colab.kernel.invokeFunction('convertToInteractive',\n",
              "                                                     [key], {});\n",
              "          if (!dataTable) return;\n",
              "\n",
              "          const docLinkHtml = 'Like what you see? Visit the ' +\n",
              "            '<a target=\"_blank\" href=https://colab.research.google.com/notebooks/data_table.ipynb>data table notebook</a>'\n",
              "            + ' to learn more about interactive tables.';\n",
              "          element.innerHTML = '';\n",
              "          dataTable['output_type'] = 'display_data';\n",
              "          await google.colab.output.renderOutput(dataTable, element);\n",
              "          const docLink = document.createElement('div');\n",
              "          docLink.innerHTML = docLinkHtml;\n",
              "          element.appendChild(docLink);\n",
              "        }\n",
              "      </script>\n",
              "    </div>\n",
              "  </div>\n",
              "  "
            ]
          },
          "metadata": {},
          "execution_count": 90
        }
      ]
    },
    {
      "cell_type": "markdown",
      "source": [
        "Mencari Varian"
      ],
      "metadata": {
        "id": "hX_3nXcJMPKc"
      }
    },
    {
      "cell_type": "code",
      "source": [
        "data_film.var()"
      ],
      "metadata": {
        "colab": {
          "base_uri": "https://localhost:8080/"
        },
        "id": "NdCnYQ-VMS5o",
        "outputId": "998ce4c7-d38c-4a5a-93dd-242136363222"
      },
      "execution_count": 74,
      "outputs": [
        {
          "output_type": "stream",
          "name": "stderr",
          "text": [
            "<ipython-input-74-3be4c907be43>:1: FutureWarning: Dropping of nuisance columns in DataFrame reductions (with 'numeric_only=None') is deprecated; in a future version this will raise TypeError.  Select only valid columns before calling the reduction.\n",
            "  data_film.var()\n"
          ]
        },
        {
          "output_type": "execute_result",
          "data": {
            "text/plain": [
              "year            168.183550\n",
              "users_rating      1.930197\n",
              "dtype: float64"
            ]
          },
          "metadata": {},
          "execution_count": 74
        }
      ]
    },
    {
      "cell_type": "markdown",
      "source": [
        "Mencari Standar Deviasi"
      ],
      "metadata": {
        "id": "r_gwWTASMcJ8"
      }
    },
    {
      "cell_type": "code",
      "source": [
        "data_film.std()"
      ],
      "metadata": {
        "colab": {
          "base_uri": "https://localhost:8080/"
        },
        "id": "ahUbx1tLMesv",
        "outputId": "cdbdbe19-5f29-437c-8d38-7e0cdb9c9428"
      },
      "execution_count": 75,
      "outputs": [
        {
          "output_type": "stream",
          "name": "stderr",
          "text": [
            "<ipython-input-75-330ccb52e74e>:1: FutureWarning: Dropping of nuisance columns in DataFrame reductions (with 'numeric_only=None') is deprecated; in a future version this will raise TypeError.  Select only valid columns before calling the reduction.\n",
            "  data_film.std()\n"
          ]
        },
        {
          "output_type": "execute_result",
          "data": {
            "text/plain": [
              "year            12.968560\n",
              "users_rating     1.389315\n",
              "dtype: float64"
            ]
          },
          "metadata": {},
          "execution_count": 75
        }
      ]
    },
    {
      "cell_type": "markdown",
      "source": [
        "Mencari Describe "
      ],
      "metadata": {
        "id": "YDWW2VGWMpn3"
      }
    },
    {
      "cell_type": "code",
      "source": [
        "data_film.describe()"
      ],
      "metadata": {
        "id": "T4J-KBBLMycr",
        "colab": {
          "base_uri": "https://localhost:8080/",
          "height": 300
        },
        "outputId": "7b8f25dc-eba9-4223-8042-796325963588"
      },
      "execution_count": 76,
      "outputs": [
        {
          "output_type": "execute_result",
          "data": {
            "text/plain": [
              "              year  users_rating\n",
              "count  1272.000000   1272.000000\n",
              "mean   2007.023585      6.144418\n",
              "std      12.968560      1.389315\n",
              "min    1926.000000      1.200000\n",
              "25%    2006.000000      5.300000\n",
              "50%    2011.000000      6.400000\n",
              "75%    2016.000000      7.100000\n",
              "max    2020.000000      9.400000"
            ],
            "text/html": [
              "\n",
              "  <div id=\"df-187e54a3-a5a7-4711-98d7-9951909b7c4f\">\n",
              "    <div class=\"colab-df-container\">\n",
              "      <div>\n",
              "<style scoped>\n",
              "    .dataframe tbody tr th:only-of-type {\n",
              "        vertical-align: middle;\n",
              "    }\n",
              "\n",
              "    .dataframe tbody tr th {\n",
              "        vertical-align: top;\n",
              "    }\n",
              "\n",
              "    .dataframe thead th {\n",
              "        text-align: right;\n",
              "    }\n",
              "</style>\n",
              "<table border=\"1\" class=\"dataframe\">\n",
              "  <thead>\n",
              "    <tr style=\"text-align: right;\">\n",
              "      <th></th>\n",
              "      <th>year</th>\n",
              "      <th>users_rating</th>\n",
              "    </tr>\n",
              "  </thead>\n",
              "  <tbody>\n",
              "    <tr>\n",
              "      <th>count</th>\n",
              "      <td>1272.000000</td>\n",
              "      <td>1272.000000</td>\n",
              "    </tr>\n",
              "    <tr>\n",
              "      <th>mean</th>\n",
              "      <td>2007.023585</td>\n",
              "      <td>6.144418</td>\n",
              "    </tr>\n",
              "    <tr>\n",
              "      <th>std</th>\n",
              "      <td>12.968560</td>\n",
              "      <td>1.389315</td>\n",
              "    </tr>\n",
              "    <tr>\n",
              "      <th>min</th>\n",
              "      <td>1926.000000</td>\n",
              "      <td>1.200000</td>\n",
              "    </tr>\n",
              "    <tr>\n",
              "      <th>25%</th>\n",
              "      <td>2006.000000</td>\n",
              "      <td>5.300000</td>\n",
              "    </tr>\n",
              "    <tr>\n",
              "      <th>50%</th>\n",
              "      <td>2011.000000</td>\n",
              "      <td>6.400000</td>\n",
              "    </tr>\n",
              "    <tr>\n",
              "      <th>75%</th>\n",
              "      <td>2016.000000</td>\n",
              "      <td>7.100000</td>\n",
              "    </tr>\n",
              "    <tr>\n",
              "      <th>max</th>\n",
              "      <td>2020.000000</td>\n",
              "      <td>9.400000</td>\n",
              "    </tr>\n",
              "  </tbody>\n",
              "</table>\n",
              "</div>\n",
              "      <button class=\"colab-df-convert\" onclick=\"convertToInteractive('df-187e54a3-a5a7-4711-98d7-9951909b7c4f')\"\n",
              "              title=\"Convert this dataframe to an interactive table.\"\n",
              "              style=\"display:none;\">\n",
              "        \n",
              "  <svg xmlns=\"http://www.w3.org/2000/svg\" height=\"24px\"viewBox=\"0 0 24 24\"\n",
              "       width=\"24px\">\n",
              "    <path d=\"M0 0h24v24H0V0z\" fill=\"none\"/>\n",
              "    <path d=\"M18.56 5.44l.94 2.06.94-2.06 2.06-.94-2.06-.94-.94-2.06-.94 2.06-2.06.94zm-11 1L8.5 8.5l.94-2.06 2.06-.94-2.06-.94L8.5 2.5l-.94 2.06-2.06.94zm10 10l.94 2.06.94-2.06 2.06-.94-2.06-.94-.94-2.06-.94 2.06-2.06.94z\"/><path d=\"M17.41 7.96l-1.37-1.37c-.4-.4-.92-.59-1.43-.59-.52 0-1.04.2-1.43.59L10.3 9.45l-7.72 7.72c-.78.78-.78 2.05 0 2.83L4 21.41c.39.39.9.59 1.41.59.51 0 1.02-.2 1.41-.59l7.78-7.78 2.81-2.81c.8-.78.8-2.07 0-2.86zM5.41 20L4 18.59l7.72-7.72 1.47 1.35L5.41 20z\"/>\n",
              "  </svg>\n",
              "      </button>\n",
              "      \n",
              "  <style>\n",
              "    .colab-df-container {\n",
              "      display:flex;\n",
              "      flex-wrap:wrap;\n",
              "      gap: 12px;\n",
              "    }\n",
              "\n",
              "    .colab-df-convert {\n",
              "      background-color: #E8F0FE;\n",
              "      border: none;\n",
              "      border-radius: 50%;\n",
              "      cursor: pointer;\n",
              "      display: none;\n",
              "      fill: #1967D2;\n",
              "      height: 32px;\n",
              "      padding: 0 0 0 0;\n",
              "      width: 32px;\n",
              "    }\n",
              "\n",
              "    .colab-df-convert:hover {\n",
              "      background-color: #E2EBFA;\n",
              "      box-shadow: 0px 1px 2px rgba(60, 64, 67, 0.3), 0px 1px 3px 1px rgba(60, 64, 67, 0.15);\n",
              "      fill: #174EA6;\n",
              "    }\n",
              "\n",
              "    [theme=dark] .colab-df-convert {\n",
              "      background-color: #3B4455;\n",
              "      fill: #D2E3FC;\n",
              "    }\n",
              "\n",
              "    [theme=dark] .colab-df-convert:hover {\n",
              "      background-color: #434B5C;\n",
              "      box-shadow: 0px 1px 3px 1px rgba(0, 0, 0, 0.15);\n",
              "      filter: drop-shadow(0px 1px 2px rgba(0, 0, 0, 0.3));\n",
              "      fill: #FFFFFF;\n",
              "    }\n",
              "  </style>\n",
              "\n",
              "      <script>\n",
              "        const buttonEl =\n",
              "          document.querySelector('#df-187e54a3-a5a7-4711-98d7-9951909b7c4f button.colab-df-convert');\n",
              "        buttonEl.style.display =\n",
              "          google.colab.kernel.accessAllowed ? 'block' : 'none';\n",
              "\n",
              "        async function convertToInteractive(key) {\n",
              "          const element = document.querySelector('#df-187e54a3-a5a7-4711-98d7-9951909b7c4f');\n",
              "          const dataTable =\n",
              "            await google.colab.kernel.invokeFunction('convertToInteractive',\n",
              "                                                     [key], {});\n",
              "          if (!dataTable) return;\n",
              "\n",
              "          const docLinkHtml = 'Like what you see? Visit the ' +\n",
              "            '<a target=\"_blank\" href=https://colab.research.google.com/notebooks/data_table.ipynb>data table notebook</a>'\n",
              "            + ' to learn more about interactive tables.';\n",
              "          element.innerHTML = '';\n",
              "          dataTable['output_type'] = 'display_data';\n",
              "          await google.colab.output.renderOutput(dataTable, element);\n",
              "          const docLink = document.createElement('div');\n",
              "          docLink.innerHTML = docLinkHtml;\n",
              "          element.appendChild(docLink);\n",
              "        }\n",
              "      </script>\n",
              "    </div>\n",
              "  </div>\n",
              "  "
            ]
          },
          "metadata": {},
          "execution_count": 76
        }
      ]
    },
    {
      "cell_type": "markdown",
      "source": [
        "# Mendeteksi Outlier"
      ],
      "metadata": {
        "id": "3Sj6Vmqs1NAs"
      }
    },
    {
      "cell_type": "markdown",
      "source": [
        "Mencari q1 dan q3"
      ],
      "metadata": {
        "id": "GswJV1M5gtzg"
      }
    },
    {
      "cell_type": "code",
      "source": [
        "q1user_rating = np. percentile(data_film.users_rating,25)\n",
        "q3user_rating = np. percentile(data_film.users_rating,75)\n",
        "print('Q1 user_rating :',q1user_rating)\n",
        "print('Q3 user_rating :',q3user_rating)\n",
        "\n",
        "IQRuser_rating = q3user_rating - q1user_rating\n",
        "print('IQR User Rating : ', IQRuser_rating)"
      ],
      "metadata": {
        "colab": {
          "base_uri": "https://localhost:8080/"
        },
        "id": "r2lywd-mgyAF",
        "outputId": "d773e505-8254-4d16-d374-b446454a95ad"
      },
      "execution_count": 77,
      "outputs": [
        {
          "output_type": "stream",
          "name": "stdout",
          "text": [
            "Q1 user_rating : 5.3\n",
            "Q3 user_rating : 7.1\n",
            "IQR User Rating :  1.7999999999999998\n"
          ]
        }
      ]
    },
    {
      "cell_type": "markdown",
      "source": [
        "Mencari lower bound dan upper bound"
      ],
      "metadata": {
        "id": "ECRoe6Wfg4EV"
      }
    },
    {
      "cell_type": "code",
      "source": [
        "lowerBoundUserRating = q1user_rating - 1.5 * IQRuser_rating\n",
        "upperBoundUserRating = q3user_rating + 1.5 * IQRuser_rating\n",
        "\n",
        "print('LowerBound User Rating : ',lowerBoundUserRating)\n",
        "print('UpperBound User Rating : ',upperBoundUserRating)"
      ],
      "metadata": {
        "colab": {
          "base_uri": "https://localhost:8080/"
        },
        "id": "GhGXOSAUz-pf",
        "outputId": "796d8305-2489-4b1b-882c-c0c0d7eedd73"
      },
      "execution_count": 78,
      "outputs": [
        {
          "output_type": "stream",
          "name": "stdout",
          "text": [
            "LowerBound User Rating :  2.6\n",
            "UpperBound User Rating :  9.799999999999999\n"
          ]
        }
      ]
    },
    {
      "cell_type": "markdown",
      "source": [
        "Mendetksi outlier"
      ],
      "metadata": {
        "id": "yFdcuAAmg6_N"
      }
    },
    {
      "cell_type": "code",
      "source": [
        "nilai_min_userRating = np.min(data_film.users_rating)\n",
        "\n",
        "nilai_max_userRating = np.max(data_film.users_rating)\n",
        "\n",
        "\n",
        "print('Nilai minimum user rating = ', nilai_min_userRating)\n",
        "print('Nilai maksimum user rating = ', nilai_max_userRating)\n",
        "\n",
        "if (nilai_min_userRating < lowerBoundUserRating):\n",
        "    print('Ditemukan low outlier!')\n",
        "else:\n",
        "    print('Tidak ditemukan low outlier!')  \n",
        "\n",
        "if (nilai_max_userRating > upperBoundUserRating):\n",
        "    print('Ditemukan high outlier!')\n",
        "else:\n",
        "    print('Tidak ditemukan high outlier!')"
      ],
      "metadata": {
        "colab": {
          "base_uri": "https://localhost:8080/"
        },
        "id": "GZSIv3F7g_fe",
        "outputId": "e865da2c-3adb-4481-ae9c-008e283398c2"
      },
      "execution_count": 79,
      "outputs": [
        {
          "output_type": "stream",
          "name": "stdout",
          "text": [
            "Nilai minimum user rating =  1.2\n",
            "Nilai maksimum user rating =  9.4\n",
            "Ditemukan low outlier!\n",
            "Tidak ditemukan high outlier!\n"
          ]
        }
      ]
    },
    {
      "cell_type": "markdown",
      "source": [
        "Melihat Outlier Rating"
      ],
      "metadata": {
        "id": "6-fRjf2Rhii1"
      }
    },
    {
      "cell_type": "code",
      "source": [
        "low_out_rating = []\n",
        "high_out_rating = []\n",
        "\n",
        "print(lowerBoundUserRating)\n",
        "for i in data_film.users_rating:\n",
        "    if (i < lowerBoundUserRating):\n",
        "        low_out_rating.append(i)\n",
        "    if (i > upperBoundUserRating):\n",
        "        high_out_rating.append(i)\n",
        "\n",
        "print('Low outlier user rating: ', low_out_rating)\n",
        "print('High outlier user rating: ', high_out_rating)"
      ],
      "metadata": {
        "colab": {
          "base_uri": "https://localhost:8080/"
        },
        "id": "Q5Gd1eX2hjeN",
        "outputId": "e0137a32-7819-4826-fdc8-b92a9210e9ab"
      },
      "execution_count": 80,
      "outputs": [
        {
          "output_type": "stream",
          "name": "stdout",
          "text": [
            "2.6\n",
            "Low outlier user rating:  [2.0, 1.2, 2.4, 1.4, 1.6, 2.2, 1.7, 2.4, 2.3, 2.4, 2.5, 1.8, 2.5, 1.9, 2.5, 2.2, 1.4, 1.5, 1.7, 2.2, 2.4]\n",
            "High outlier user rating:  []\n"
          ]
        }
      ]
    },
    {
      "cell_type": "markdown",
      "source": [
        "Mereplace outlier"
      ],
      "metadata": {
        "id": "ODK5aBcpz6ts"
      }
    },
    {
      "cell_type": "code",
      "source": [
        "data_film.users_rating = np.where(data_film.users_rating < lowerBoundUserRating,\n",
        "                                          data_film.users_rating.mean(),\n",
        "                                          data_film.users_rating)"
      ],
      "metadata": {
        "id": "fKXvkzTbzPLv"
      },
      "execution_count": 81,
      "outputs": []
    },
    {
      "cell_type": "markdown",
      "source": [
        "Mengecek outlier kembali"
      ],
      "metadata": {
        "id": "nwiiOV7QnJtT"
      }
    },
    {
      "cell_type": "code",
      "source": [
        "nilai_min_userRating = np.min(data_film.users_rating)\n",
        "nilai_max_userRating = np.max(data_film.users_rating)\n",
        "\n",
        "if (nilai_min_userRating < lowerBoundUserRating):\n",
        "    print('Ditemukan low outlier!')\n",
        "else:\n",
        "    print('Tidak ditemukan low outlier!')  \n",
        "\n",
        "if (nilai_max_userRating > upperBoundUserRating):\n",
        "    print('Ditemukan high outlier!')\n",
        "else:\n",
        "    print('Tidak ditemukan high outlier!')"
      ],
      "metadata": {
        "colab": {
          "base_uri": "https://localhost:8080/"
        },
        "id": "ZN4KfCbAnKIT",
        "outputId": "2f6dcfae-515c-41bf-e5dd-5af41c8bdb83"
      },
      "execution_count": 82,
      "outputs": [
        {
          "output_type": "stream",
          "name": "stdout",
          "text": [
            "Tidak ditemukan low outlier!\n",
            "Tidak ditemukan high outlier!\n"
          ]
        }
      ]
    },
    {
      "cell_type": "markdown",
      "source": [
        "# Visualisasi Data"
      ],
      "metadata": {
        "id": "-J1Avsqk21rW"
      }
    },
    {
      "cell_type": "markdown",
      "source": [
        "1. Visualisasi genre"
      ],
      "metadata": {
        "id": "q0SCR_Ch7uGi"
      }
    },
    {
      "cell_type": "code",
      "source": [
        "data_film = data_film.loc[data_film.year >= 2000]\n",
        "data_film"
      ],
      "metadata": {
        "id": "Pw5x2b9UDEpD",
        "colab": {
          "base_uri": "https://localhost:8080/",
          "height": 424
        },
        "outputId": "dc90a13f-0dcd-46d7-9ce8-59416aca34c0"
      },
      "execution_count": 83,
      "outputs": [
        {
          "output_type": "execute_result",
          "data": {
            "text/plain": [
              "                         title  year      genre  users_rating votes  \\\n",
              "0          #FriendButMarried 2  2020  Biography           6.5   120   \n",
              "1                     4 Mantan  2020   Thriller           6.4     8   \n",
              "2     Aku Tahu Kapan Kamu Mati  2020     Horror           5.4    17   \n",
              "3                  Anak Garuda  2020  Adventure           9.1    27   \n",
              "4                    Dignitate  2020      Drama           7.6    33   \n",
              "...                        ...   ...        ...           ...   ...   \n",
              "1013                   Tragedi  2001     Action           4.1     7   \n",
              "1014            Viva Indonesia  2001  Adventure           7.2     8   \n",
              "1015       Petualangan Sherina  2000  Adventure           7.8   640   \n",
              "1016               Reinkarnasi  2000     Action           6.3     6   \n",
              "1017                  Telegram  2000      Drama           6.1    45   \n",
              "\n",
              "       languages          directors  runtime  \n",
              "0     Indonesian      Rako Prijanto  100 min  \n",
              "1     Indonesian      Hanny Saputra   80 min  \n",
              "2     Indonesian  Hadrah Daeng Ratu   92 min  \n",
              "3     Indonesian       Faozan Rizal  129 min  \n",
              "4     Indonesian       Fajar Nugros  109 min  \n",
              "...          ...                ...      ...  \n",
              "1013  Indonesian     Rudy Soedjarwo  120 min  \n",
              "1014  Indonesian   Ravi L. Bharwani   90 min  \n",
              "1015  Indonesian          Riri Riza  112 min  \n",
              "1016  Indonesian         Dede Yusuf   82 min  \n",
              "1017  Indonesian    Slamet Rahardjo   82 min  \n",
              "\n",
              "[1018 rows x 8 columns]"
            ],
            "text/html": [
              "\n",
              "  <div id=\"df-7a530c1f-769b-4444-8e49-72321413b4db\">\n",
              "    <div class=\"colab-df-container\">\n",
              "      <div>\n",
              "<style scoped>\n",
              "    .dataframe tbody tr th:only-of-type {\n",
              "        vertical-align: middle;\n",
              "    }\n",
              "\n",
              "    .dataframe tbody tr th {\n",
              "        vertical-align: top;\n",
              "    }\n",
              "\n",
              "    .dataframe thead th {\n",
              "        text-align: right;\n",
              "    }\n",
              "</style>\n",
              "<table border=\"1\" class=\"dataframe\">\n",
              "  <thead>\n",
              "    <tr style=\"text-align: right;\">\n",
              "      <th></th>\n",
              "      <th>title</th>\n",
              "      <th>year</th>\n",
              "      <th>genre</th>\n",
              "      <th>users_rating</th>\n",
              "      <th>votes</th>\n",
              "      <th>languages</th>\n",
              "      <th>directors</th>\n",
              "      <th>runtime</th>\n",
              "    </tr>\n",
              "  </thead>\n",
              "  <tbody>\n",
              "    <tr>\n",
              "      <th>0</th>\n",
              "      <td>#FriendButMarried 2</td>\n",
              "      <td>2020</td>\n",
              "      <td>Biography</td>\n",
              "      <td>6.5</td>\n",
              "      <td>120</td>\n",
              "      <td>Indonesian</td>\n",
              "      <td>Rako Prijanto</td>\n",
              "      <td>100 min</td>\n",
              "    </tr>\n",
              "    <tr>\n",
              "      <th>1</th>\n",
              "      <td>4 Mantan</td>\n",
              "      <td>2020</td>\n",
              "      <td>Thriller</td>\n",
              "      <td>6.4</td>\n",
              "      <td>8</td>\n",
              "      <td>Indonesian</td>\n",
              "      <td>Hanny Saputra</td>\n",
              "      <td>80 min</td>\n",
              "    </tr>\n",
              "    <tr>\n",
              "      <th>2</th>\n",
              "      <td>Aku Tahu Kapan Kamu Mati</td>\n",
              "      <td>2020</td>\n",
              "      <td>Horror</td>\n",
              "      <td>5.4</td>\n",
              "      <td>17</td>\n",
              "      <td>Indonesian</td>\n",
              "      <td>Hadrah Daeng Ratu</td>\n",
              "      <td>92 min</td>\n",
              "    </tr>\n",
              "    <tr>\n",
              "      <th>3</th>\n",
              "      <td>Anak Garuda</td>\n",
              "      <td>2020</td>\n",
              "      <td>Adventure</td>\n",
              "      <td>9.1</td>\n",
              "      <td>27</td>\n",
              "      <td>Indonesian</td>\n",
              "      <td>Faozan Rizal</td>\n",
              "      <td>129 min</td>\n",
              "    </tr>\n",
              "    <tr>\n",
              "      <th>4</th>\n",
              "      <td>Dignitate</td>\n",
              "      <td>2020</td>\n",
              "      <td>Drama</td>\n",
              "      <td>7.6</td>\n",
              "      <td>33</td>\n",
              "      <td>Indonesian</td>\n",
              "      <td>Fajar Nugros</td>\n",
              "      <td>109 min</td>\n",
              "    </tr>\n",
              "    <tr>\n",
              "      <th>...</th>\n",
              "      <td>...</td>\n",
              "      <td>...</td>\n",
              "      <td>...</td>\n",
              "      <td>...</td>\n",
              "      <td>...</td>\n",
              "      <td>...</td>\n",
              "      <td>...</td>\n",
              "      <td>...</td>\n",
              "    </tr>\n",
              "    <tr>\n",
              "      <th>1013</th>\n",
              "      <td>Tragedi</td>\n",
              "      <td>2001</td>\n",
              "      <td>Action</td>\n",
              "      <td>4.1</td>\n",
              "      <td>7</td>\n",
              "      <td>Indonesian</td>\n",
              "      <td>Rudy Soedjarwo</td>\n",
              "      <td>120 min</td>\n",
              "    </tr>\n",
              "    <tr>\n",
              "      <th>1014</th>\n",
              "      <td>Viva Indonesia</td>\n",
              "      <td>2001</td>\n",
              "      <td>Adventure</td>\n",
              "      <td>7.2</td>\n",
              "      <td>8</td>\n",
              "      <td>Indonesian</td>\n",
              "      <td>Ravi L. Bharwani</td>\n",
              "      <td>90 min</td>\n",
              "    </tr>\n",
              "    <tr>\n",
              "      <th>1015</th>\n",
              "      <td>Petualangan Sherina</td>\n",
              "      <td>2000</td>\n",
              "      <td>Adventure</td>\n",
              "      <td>7.8</td>\n",
              "      <td>640</td>\n",
              "      <td>Indonesian</td>\n",
              "      <td>Riri Riza</td>\n",
              "      <td>112 min</td>\n",
              "    </tr>\n",
              "    <tr>\n",
              "      <th>1016</th>\n",
              "      <td>Reinkarnasi</td>\n",
              "      <td>2000</td>\n",
              "      <td>Action</td>\n",
              "      <td>6.3</td>\n",
              "      <td>6</td>\n",
              "      <td>Indonesian</td>\n",
              "      <td>Dede Yusuf</td>\n",
              "      <td>82 min</td>\n",
              "    </tr>\n",
              "    <tr>\n",
              "      <th>1017</th>\n",
              "      <td>Telegram</td>\n",
              "      <td>2000</td>\n",
              "      <td>Drama</td>\n",
              "      <td>6.1</td>\n",
              "      <td>45</td>\n",
              "      <td>Indonesian</td>\n",
              "      <td>Slamet Rahardjo</td>\n",
              "      <td>82 min</td>\n",
              "    </tr>\n",
              "  </tbody>\n",
              "</table>\n",
              "<p>1018 rows × 8 columns</p>\n",
              "</div>\n",
              "      <button class=\"colab-df-convert\" onclick=\"convertToInteractive('df-7a530c1f-769b-4444-8e49-72321413b4db')\"\n",
              "              title=\"Convert this dataframe to an interactive table.\"\n",
              "              style=\"display:none;\">\n",
              "        \n",
              "  <svg xmlns=\"http://www.w3.org/2000/svg\" height=\"24px\"viewBox=\"0 0 24 24\"\n",
              "       width=\"24px\">\n",
              "    <path d=\"M0 0h24v24H0V0z\" fill=\"none\"/>\n",
              "    <path d=\"M18.56 5.44l.94 2.06.94-2.06 2.06-.94-2.06-.94-.94-2.06-.94 2.06-2.06.94zm-11 1L8.5 8.5l.94-2.06 2.06-.94-2.06-.94L8.5 2.5l-.94 2.06-2.06.94zm10 10l.94 2.06.94-2.06 2.06-.94-2.06-.94-.94-2.06-.94 2.06-2.06.94z\"/><path d=\"M17.41 7.96l-1.37-1.37c-.4-.4-.92-.59-1.43-.59-.52 0-1.04.2-1.43.59L10.3 9.45l-7.72 7.72c-.78.78-.78 2.05 0 2.83L4 21.41c.39.39.9.59 1.41.59.51 0 1.02-.2 1.41-.59l7.78-7.78 2.81-2.81c.8-.78.8-2.07 0-2.86zM5.41 20L4 18.59l7.72-7.72 1.47 1.35L5.41 20z\"/>\n",
              "  </svg>\n",
              "      </button>\n",
              "      \n",
              "  <style>\n",
              "    .colab-df-container {\n",
              "      display:flex;\n",
              "      flex-wrap:wrap;\n",
              "      gap: 12px;\n",
              "    }\n",
              "\n",
              "    .colab-df-convert {\n",
              "      background-color: #E8F0FE;\n",
              "      border: none;\n",
              "      border-radius: 50%;\n",
              "      cursor: pointer;\n",
              "      display: none;\n",
              "      fill: #1967D2;\n",
              "      height: 32px;\n",
              "      padding: 0 0 0 0;\n",
              "      width: 32px;\n",
              "    }\n",
              "\n",
              "    .colab-df-convert:hover {\n",
              "      background-color: #E2EBFA;\n",
              "      box-shadow: 0px 1px 2px rgba(60, 64, 67, 0.3), 0px 1px 3px 1px rgba(60, 64, 67, 0.15);\n",
              "      fill: #174EA6;\n",
              "    }\n",
              "\n",
              "    [theme=dark] .colab-df-convert {\n",
              "      background-color: #3B4455;\n",
              "      fill: #D2E3FC;\n",
              "    }\n",
              "\n",
              "    [theme=dark] .colab-df-convert:hover {\n",
              "      background-color: #434B5C;\n",
              "      box-shadow: 0px 1px 3px 1px rgba(0, 0, 0, 0.15);\n",
              "      filter: drop-shadow(0px 1px 2px rgba(0, 0, 0, 0.3));\n",
              "      fill: #FFFFFF;\n",
              "    }\n",
              "  </style>\n",
              "\n",
              "      <script>\n",
              "        const buttonEl =\n",
              "          document.querySelector('#df-7a530c1f-769b-4444-8e49-72321413b4db button.colab-df-convert');\n",
              "        buttonEl.style.display =\n",
              "          google.colab.kernel.accessAllowed ? 'block' : 'none';\n",
              "\n",
              "        async function convertToInteractive(key) {\n",
              "          const element = document.querySelector('#df-7a530c1f-769b-4444-8e49-72321413b4db');\n",
              "          const dataTable =\n",
              "            await google.colab.kernel.invokeFunction('convertToInteractive',\n",
              "                                                     [key], {});\n",
              "          if (!dataTable) return;\n",
              "\n",
              "          const docLinkHtml = 'Like what you see? Visit the ' +\n",
              "            '<a target=\"_blank\" href=https://colab.research.google.com/notebooks/data_table.ipynb>data table notebook</a>'\n",
              "            + ' to learn more about interactive tables.';\n",
              "          element.innerHTML = '';\n",
              "          dataTable['output_type'] = 'display_data';\n",
              "          await google.colab.output.renderOutput(dataTable, element);\n",
              "          const docLink = document.createElement('div');\n",
              "          docLink.innerHTML = docLinkHtml;\n",
              "          element.appendChild(docLink);\n",
              "        }\n",
              "      </script>\n",
              "    </div>\n",
              "  </div>\n",
              "  "
            ]
          },
          "metadata": {},
          "execution_count": 83
        }
      ]
    },
    {
      "cell_type": "markdown",
      "source": [
        "Mengubah value kolom genre menjadi int"
      ],
      "metadata": {
        "id": "2JC3mvFqDtPR"
      }
    },
    {
      "cell_type": "code",
      "source": [
        "code = 1\n",
        "for i in data_film.loc[:,'genre'].unique():\n",
        "  data_film['genre'].loc[data_film['genre']==i] = code\n",
        "  code += 1\n",
        "data_film['genre'] = data_film['genre'].astype('int64')"
      ],
      "metadata": {
        "id": "KMCU-lZyDN79",
        "colab": {
          "base_uri": "https://localhost:8080/"
        },
        "outputId": "73387b59-4876-4702-e5b4-a5e1b1180130"
      },
      "execution_count": 84,
      "outputs": [
        {
          "output_type": "stream",
          "name": "stderr",
          "text": [
            "/usr/local/lib/python3.8/dist-packages/pandas/core/indexing.py:1732: SettingWithCopyWarning: \n",
            "A value is trying to be set on a copy of a slice from a DataFrame\n",
            "\n",
            "See the caveats in the documentation: https://pandas.pydata.org/pandas-docs/stable/user_guide/indexing.html#returning-a-view-versus-a-copy\n",
            "  self._setitem_single_block(indexer, value, name)\n",
            "<ipython-input-84-992714c0246c>:5: SettingWithCopyWarning: \n",
            "A value is trying to be set on a copy of a slice from a DataFrame.\n",
            "Try using .loc[row_indexer,col_indexer] = value instead\n",
            "\n",
            "See the caveats in the documentation: https://pandas.pydata.org/pandas-docs/stable/user_guide/indexing.html#returning-a-view-versus-a-copy\n",
            "  data_film['genre'] = data_film['genre'].astype('int64')\n"
          ]
        }
      ]
    },
    {
      "cell_type": "code",
      "source": [
        "data_film"
      ],
      "metadata": {
        "colab": {
          "base_uri": "https://localhost:8080/",
          "height": 424
        },
        "id": "HwxxmW-WEJ0J",
        "outputId": "0f190927-93d5-4296-b50f-e20f1f222c5e"
      },
      "execution_count": 85,
      "outputs": [
        {
          "output_type": "execute_result",
          "data": {
            "text/plain": [
              "                         title  year  genre  users_rating votes   languages  \\\n",
              "0          #FriendButMarried 2  2020      1           6.5   120  Indonesian   \n",
              "1                     4 Mantan  2020      2           6.4     8  Indonesian   \n",
              "2     Aku Tahu Kapan Kamu Mati  2020      3           5.4    17  Indonesian   \n",
              "3                  Anak Garuda  2020      4           9.1    27  Indonesian   \n",
              "4                    Dignitate  2020      5           7.6    33  Indonesian   \n",
              "...                        ...   ...    ...           ...   ...         ...   \n",
              "1013                   Tragedi  2001      8           4.1     7  Indonesian   \n",
              "1014            Viva Indonesia  2001      4           7.2     8  Indonesian   \n",
              "1015       Petualangan Sherina  2000      4           7.8   640  Indonesian   \n",
              "1016               Reinkarnasi  2000      8           6.3     6  Indonesian   \n",
              "1017                  Telegram  2000      5           6.1    45  Indonesian   \n",
              "\n",
              "              directors  runtime  \n",
              "0         Rako Prijanto  100 min  \n",
              "1         Hanny Saputra   80 min  \n",
              "2     Hadrah Daeng Ratu   92 min  \n",
              "3          Faozan Rizal  129 min  \n",
              "4          Fajar Nugros  109 min  \n",
              "...                 ...      ...  \n",
              "1013     Rudy Soedjarwo  120 min  \n",
              "1014   Ravi L. Bharwani   90 min  \n",
              "1015          Riri Riza  112 min  \n",
              "1016         Dede Yusuf   82 min  \n",
              "1017    Slamet Rahardjo   82 min  \n",
              "\n",
              "[1018 rows x 8 columns]"
            ],
            "text/html": [
              "\n",
              "  <div id=\"df-13d2e21c-ba6f-497c-8e32-772e34640d81\">\n",
              "    <div class=\"colab-df-container\">\n",
              "      <div>\n",
              "<style scoped>\n",
              "    .dataframe tbody tr th:only-of-type {\n",
              "        vertical-align: middle;\n",
              "    }\n",
              "\n",
              "    .dataframe tbody tr th {\n",
              "        vertical-align: top;\n",
              "    }\n",
              "\n",
              "    .dataframe thead th {\n",
              "        text-align: right;\n",
              "    }\n",
              "</style>\n",
              "<table border=\"1\" class=\"dataframe\">\n",
              "  <thead>\n",
              "    <tr style=\"text-align: right;\">\n",
              "      <th></th>\n",
              "      <th>title</th>\n",
              "      <th>year</th>\n",
              "      <th>genre</th>\n",
              "      <th>users_rating</th>\n",
              "      <th>votes</th>\n",
              "      <th>languages</th>\n",
              "      <th>directors</th>\n",
              "      <th>runtime</th>\n",
              "    </tr>\n",
              "  </thead>\n",
              "  <tbody>\n",
              "    <tr>\n",
              "      <th>0</th>\n",
              "      <td>#FriendButMarried 2</td>\n",
              "      <td>2020</td>\n",
              "      <td>1</td>\n",
              "      <td>6.5</td>\n",
              "      <td>120</td>\n",
              "      <td>Indonesian</td>\n",
              "      <td>Rako Prijanto</td>\n",
              "      <td>100 min</td>\n",
              "    </tr>\n",
              "    <tr>\n",
              "      <th>1</th>\n",
              "      <td>4 Mantan</td>\n",
              "      <td>2020</td>\n",
              "      <td>2</td>\n",
              "      <td>6.4</td>\n",
              "      <td>8</td>\n",
              "      <td>Indonesian</td>\n",
              "      <td>Hanny Saputra</td>\n",
              "      <td>80 min</td>\n",
              "    </tr>\n",
              "    <tr>\n",
              "      <th>2</th>\n",
              "      <td>Aku Tahu Kapan Kamu Mati</td>\n",
              "      <td>2020</td>\n",
              "      <td>3</td>\n",
              "      <td>5.4</td>\n",
              "      <td>17</td>\n",
              "      <td>Indonesian</td>\n",
              "      <td>Hadrah Daeng Ratu</td>\n",
              "      <td>92 min</td>\n",
              "    </tr>\n",
              "    <tr>\n",
              "      <th>3</th>\n",
              "      <td>Anak Garuda</td>\n",
              "      <td>2020</td>\n",
              "      <td>4</td>\n",
              "      <td>9.1</td>\n",
              "      <td>27</td>\n",
              "      <td>Indonesian</td>\n",
              "      <td>Faozan Rizal</td>\n",
              "      <td>129 min</td>\n",
              "    </tr>\n",
              "    <tr>\n",
              "      <th>4</th>\n",
              "      <td>Dignitate</td>\n",
              "      <td>2020</td>\n",
              "      <td>5</td>\n",
              "      <td>7.6</td>\n",
              "      <td>33</td>\n",
              "      <td>Indonesian</td>\n",
              "      <td>Fajar Nugros</td>\n",
              "      <td>109 min</td>\n",
              "    </tr>\n",
              "    <tr>\n",
              "      <th>...</th>\n",
              "      <td>...</td>\n",
              "      <td>...</td>\n",
              "      <td>...</td>\n",
              "      <td>...</td>\n",
              "      <td>...</td>\n",
              "      <td>...</td>\n",
              "      <td>...</td>\n",
              "      <td>...</td>\n",
              "    </tr>\n",
              "    <tr>\n",
              "      <th>1013</th>\n",
              "      <td>Tragedi</td>\n",
              "      <td>2001</td>\n",
              "      <td>8</td>\n",
              "      <td>4.1</td>\n",
              "      <td>7</td>\n",
              "      <td>Indonesian</td>\n",
              "      <td>Rudy Soedjarwo</td>\n",
              "      <td>120 min</td>\n",
              "    </tr>\n",
              "    <tr>\n",
              "      <th>1014</th>\n",
              "      <td>Viva Indonesia</td>\n",
              "      <td>2001</td>\n",
              "      <td>4</td>\n",
              "      <td>7.2</td>\n",
              "      <td>8</td>\n",
              "      <td>Indonesian</td>\n",
              "      <td>Ravi L. Bharwani</td>\n",
              "      <td>90 min</td>\n",
              "    </tr>\n",
              "    <tr>\n",
              "      <th>1015</th>\n",
              "      <td>Petualangan Sherina</td>\n",
              "      <td>2000</td>\n",
              "      <td>4</td>\n",
              "      <td>7.8</td>\n",
              "      <td>640</td>\n",
              "      <td>Indonesian</td>\n",
              "      <td>Riri Riza</td>\n",
              "      <td>112 min</td>\n",
              "    </tr>\n",
              "    <tr>\n",
              "      <th>1016</th>\n",
              "      <td>Reinkarnasi</td>\n",
              "      <td>2000</td>\n",
              "      <td>8</td>\n",
              "      <td>6.3</td>\n",
              "      <td>6</td>\n",
              "      <td>Indonesian</td>\n",
              "      <td>Dede Yusuf</td>\n",
              "      <td>82 min</td>\n",
              "    </tr>\n",
              "    <tr>\n",
              "      <th>1017</th>\n",
              "      <td>Telegram</td>\n",
              "      <td>2000</td>\n",
              "      <td>5</td>\n",
              "      <td>6.1</td>\n",
              "      <td>45</td>\n",
              "      <td>Indonesian</td>\n",
              "      <td>Slamet Rahardjo</td>\n",
              "      <td>82 min</td>\n",
              "    </tr>\n",
              "  </tbody>\n",
              "</table>\n",
              "<p>1018 rows × 8 columns</p>\n",
              "</div>\n",
              "      <button class=\"colab-df-convert\" onclick=\"convertToInteractive('df-13d2e21c-ba6f-497c-8e32-772e34640d81')\"\n",
              "              title=\"Convert this dataframe to an interactive table.\"\n",
              "              style=\"display:none;\">\n",
              "        \n",
              "  <svg xmlns=\"http://www.w3.org/2000/svg\" height=\"24px\"viewBox=\"0 0 24 24\"\n",
              "       width=\"24px\">\n",
              "    <path d=\"M0 0h24v24H0V0z\" fill=\"none\"/>\n",
              "    <path d=\"M18.56 5.44l.94 2.06.94-2.06 2.06-.94-2.06-.94-.94-2.06-.94 2.06-2.06.94zm-11 1L8.5 8.5l.94-2.06 2.06-.94-2.06-.94L8.5 2.5l-.94 2.06-2.06.94zm10 10l.94 2.06.94-2.06 2.06-.94-2.06-.94-.94-2.06-.94 2.06-2.06.94z\"/><path d=\"M17.41 7.96l-1.37-1.37c-.4-.4-.92-.59-1.43-.59-.52 0-1.04.2-1.43.59L10.3 9.45l-7.72 7.72c-.78.78-.78 2.05 0 2.83L4 21.41c.39.39.9.59 1.41.59.51 0 1.02-.2 1.41-.59l7.78-7.78 2.81-2.81c.8-.78.8-2.07 0-2.86zM5.41 20L4 18.59l7.72-7.72 1.47 1.35L5.41 20z\"/>\n",
              "  </svg>\n",
              "      </button>\n",
              "      \n",
              "  <style>\n",
              "    .colab-df-container {\n",
              "      display:flex;\n",
              "      flex-wrap:wrap;\n",
              "      gap: 12px;\n",
              "    }\n",
              "\n",
              "    .colab-df-convert {\n",
              "      background-color: #E8F0FE;\n",
              "      border: none;\n",
              "      border-radius: 50%;\n",
              "      cursor: pointer;\n",
              "      display: none;\n",
              "      fill: #1967D2;\n",
              "      height: 32px;\n",
              "      padding: 0 0 0 0;\n",
              "      width: 32px;\n",
              "    }\n",
              "\n",
              "    .colab-df-convert:hover {\n",
              "      background-color: #E2EBFA;\n",
              "      box-shadow: 0px 1px 2px rgba(60, 64, 67, 0.3), 0px 1px 3px 1px rgba(60, 64, 67, 0.15);\n",
              "      fill: #174EA6;\n",
              "    }\n",
              "\n",
              "    [theme=dark] .colab-df-convert {\n",
              "      background-color: #3B4455;\n",
              "      fill: #D2E3FC;\n",
              "    }\n",
              "\n",
              "    [theme=dark] .colab-df-convert:hover {\n",
              "      background-color: #434B5C;\n",
              "      box-shadow: 0px 1px 3px 1px rgba(0, 0, 0, 0.15);\n",
              "      filter: drop-shadow(0px 1px 2px rgba(0, 0, 0, 0.3));\n",
              "      fill: #FFFFFF;\n",
              "    }\n",
              "  </style>\n",
              "\n",
              "      <script>\n",
              "        const buttonEl =\n",
              "          document.querySelector('#df-13d2e21c-ba6f-497c-8e32-772e34640d81 button.colab-df-convert');\n",
              "        buttonEl.style.display =\n",
              "          google.colab.kernel.accessAllowed ? 'block' : 'none';\n",
              "\n",
              "        async function convertToInteractive(key) {\n",
              "          const element = document.querySelector('#df-13d2e21c-ba6f-497c-8e32-772e34640d81');\n",
              "          const dataTable =\n",
              "            await google.colab.kernel.invokeFunction('convertToInteractive',\n",
              "                                                     [key], {});\n",
              "          if (!dataTable) return;\n",
              "\n",
              "          const docLinkHtml = 'Like what you see? Visit the ' +\n",
              "            '<a target=\"_blank\" href=https://colab.research.google.com/notebooks/data_table.ipynb>data table notebook</a>'\n",
              "            + ' to learn more about interactive tables.';\n",
              "          element.innerHTML = '';\n",
              "          dataTable['output_type'] = 'display_data';\n",
              "          await google.colab.output.renderOutput(dataTable, element);\n",
              "          const docLink = document.createElement('div');\n",
              "          docLink.innerHTML = docLinkHtml;\n",
              "          element.appendChild(docLink);\n",
              "        }\n",
              "      </script>\n",
              "    </div>\n",
              "  </div>\n",
              "  "
            ]
          },
          "metadata": {},
          "execution_count": 85
        }
      ]
    },
    {
      "cell_type": "markdown",
      "source": [
        "Jumlah film berdasarkan genre"
      ],
      "metadata": {
        "id": "duxfI6JNQkAC"
      }
    },
    {
      "cell_type": "code",
      "source": [
        "JumlahGenre = data_film.groupby('genre')['users_rating'].count()\n",
        "JumlahGenre"
      ],
      "metadata": {
        "colab": {
          "base_uri": "https://localhost:8080/"
        },
        "id": "QIgBvYAtGS1I",
        "outputId": "5ae52bdb-2568-4089-9135-8a90437050f4"
      },
      "execution_count": 86,
      "outputs": [
        {
          "output_type": "execute_result",
          "data": {
            "text/plain": [
              "genre\n",
              "1      28\n",
              "2      11\n",
              "3     205\n",
              "4      41\n",
              "5     383\n",
              "6     250\n",
              "7       4\n",
              "8      75\n",
              "9       1\n",
              "10      7\n",
              "11      9\n",
              "12      2\n",
              "13      2\n",
              "Name: users_rating, dtype: int64"
            ]
          },
          "metadata": {},
          "execution_count": 86
        }
      ]
    },
    {
      "cell_type": "code",
      "source": [
        "menJumlah = ( 28, 11,205, 41, 383, 250, 4, 75, 1, 7, 9, 2, 2) \n",
        "biography = JumlahGenre[1]\n",
        "thriller = JumlahGenre[2]\n",
        "horror\t= JumlahGenre[3]\n",
        "adventure = JumlahGenre[4]\n",
        "drama = JumlahGenre[5]\n",
        "comedy = JumlahGenre[6]\n",
        "animation = JumlahGenre[7]\n",
        "action = JumlahGenre[8]\n",
        "history = JumlahGenre[9]\n",
        "crime = JumlahGenre[10]\n",
        "romance = JumlahGenre[11]\n",
        "sci_fi = JumlahGenre[12]\n",
        "family = JumlahGenre[13]\n",
        "data_dict = {'biography':biography,'thriller':thriller,'horror':horror,'adventure':adventure,'drama':drama,'comedy':comedy,'animation':animation,\n",
        "             'action':action,'history':history,'crime':crime,'romance':romance,'sci_fi':sci_fi,'family':family}\n",
        "courses = list(data_dict.keys())\n",
        "values = list(data_dict.values())\n",
        "fig, ax = plt.subplots(figsize = (18,10))\n",
        "for index,data in enumerate(menJumlah):\n",
        "    plt.text(x=index , y =data+0.1 , s=f\"{data}\" , fontdict=dict(fontsize=15), ha='center')\n",
        "\n",
        "#  Bar plot\n",
        "plt.bar(courses, values, color ='Purple', width = 0.5)\n",
        "plt.xlabel(\"Genre\")\n",
        "plt.ylabel(\"Jumlah Film \", fontsize=15)\n",
        "plt.title(\"Genre dengan Jumlah Film Terbanyak\", fontsize=15)\n",
        "plt.show()"
      ],
      "metadata": {
        "colab": {
          "base_uri": "https://localhost:8080/",
          "height": 555
        },
        "id": "bsZPrnLxHDBw",
        "outputId": "b68a773e-6ccf-4619-9107-d4440eaf6504"
      },
      "execution_count": 87,
      "outputs": [
        {
          "output_type": "display_data",
          "data": {
            "text/plain": [
              "<Figure size 1296x720 with 1 Axes>"
            ],
            "image/png": "[encoded data removed]"
          },
          "metadata": {
            "needs_background": "light"
          }
        }
      ]
    },
    {
      "cell_type": "markdown",
      "source": [
        "Rata rata rating tiap genre"
      ],
      "metadata": {
        "id": "v_mOH1YpuTCP"
      }
    },
    {
      "cell_type": "code",
      "source": [
        "rata_rata = data_film.groupby('genre')['users_rating'].mean()\n",
        "rata_rata"
      ],
      "metadata": {
        "id": "Q7Piw0ck7XHk",
        "colab": {
          "base_uri": "https://localhost:8080/"
        },
        "outputId": "e9dc8f9c-54bb-47e2-f4df-25749afc304f"
      },
      "execution_count": 88,
      "outputs": [
        {
          "output_type": "execute_result",
          "data": {
            "text/plain": [
              "genre\n",
              "1     7.346429\n",
              "2     6.027273\n",
              "3     5.143739\n",
              "4     6.547425\n",
              "5     6.740064\n",
              "6     5.852221\n",
              "7     5.825000\n",
              "8     6.308443\n",
              "9     7.500000\n",
              "10    6.042857\n",
              "11    6.938269\n",
              "12    5.800000\n",
              "13    7.100000\n",
              "Name: users_rating, dtype: float64"
            ]
          },
          "metadata": {},
          "execution_count": 88
        }
      ]
    },
    {
      "cell_type": "code",
      "source": [
        "menMeans = (7.346429, 6.027273, 5.143739, 6.547425, 6.740064, 5.852221, 5.825000, 6.308443, 7.500000, 6.042857, 6.938269, 5.800000, 7.100000) \n",
        "biography = rata_rata[1]\n",
        "thriller = rata_rata[2]\n",
        "horror\t= rata_rata[3]\n",
        "adventure = rata_rata[4]\n",
        "drama = rata_rata[5]\n",
        "comedy = rata_rata[6]\n",
        "animation = rata_rata[7]\n",
        "action = rata_rata[8]\n",
        "history = rata_rata[9]\n",
        "crime = rata_rata[10]\n",
        "romance = rata_rata[11]\n",
        "sci_fi = rata_rata[12]\n",
        "family = rata_rata[13]\n",
        "data_dict = {'biography':biography,'thriller':thriller,'horror':horror,'adventure':adventure,'drama':drama,'comedy':comedy,'animation':animation,\n",
        "             'action':action,'history':history,'crime':crime,'romance':romance,'sci_fi':sci_fi,'family':family}\n",
        "courses = list(data_dict.keys())\n",
        "values = list(data_dict.values())\n",
        "fig, ax = plt.subplots(figsize = (18,10))\n",
        "for index,data in enumerate(menMeans):\n",
        "    plt.text(x=index , y =data+0.1 , s=f\"{data}\" , fontdict=dict(fontsize=15), ha='center')\n",
        "\n",
        "#  Bar plot\n",
        "plt.bar(courses, values, color ='#D3B651', width = 0.5)\n",
        "plt.xlabel(\"Genre\")\n",
        "plt.ylabel(\"Rating\", fontsize=15)\n",
        "plt.title(\"Genre dengan rating tertinggi\", fontsize=15)\n",
        "plt.show()"
      ],
      "metadata": {
        "colab": {
          "base_uri": "https://localhost:8080/",
          "height": 562
        },
        "id": "PeGSwnSyAgwM",
        "outputId": "4b246aa1-d1c4-448d-b8ef-5103d91d16b9"
      },
      "execution_count": 89,
      "outputs": [
        {
          "output_type": "display_data",
          "data": {
            "text/plain": [
              "<Figure size 1296x720 with 1 Axes>"
            ],
            "image/png": "[encoded data removed]"
          },
          "metadata": {
            "needs_background": "light"
          }
        }
      ]
    }
  ]
}